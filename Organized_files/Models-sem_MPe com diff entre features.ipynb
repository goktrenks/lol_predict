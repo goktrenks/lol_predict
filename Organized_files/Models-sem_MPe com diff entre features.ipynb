{
 "cells": [
  {
   "cell_type": "markdown",
   "id": "e683c337",
   "metadata": {},
   "source": [
    "# This is a more polished notebook, with the main results and essential code only"
   ]
  },
  {
   "cell_type": "code",
   "execution_count": 1,
   "id": "4607e4b5",
   "metadata": {
    "scrolled": true
   },
   "outputs": [
    {
     "data": {
      "text/html": [
       "<style>.container { width:100% !important; }</style>"
      ],
      "text/plain": [
       "<IPython.core.display.HTML object>"
      ]
     },
     "metadata": {},
     "output_type": "display_data"
    }
   ],
   "source": [
    "from IPython.display import display, HTML\n",
    "display(HTML(\"<style>.container { width:100% !important; }</style>\"))"
   ]
  },
  {
   "cell_type": "code",
   "execution_count": 2,
   "id": "729aa4d5",
   "metadata": {},
   "outputs": [],
   "source": [
    "%config Completer.use_jedi = False"
   ]
  },
  {
   "cell_type": "code",
   "execution_count": 3,
   "id": "cc65bf1e",
   "metadata": {},
   "outputs": [],
   "source": [
    "import numpy as np\n",
    "import pandas as pd\n",
    "import matplotlib.pyplot as plt\n",
    "import seaborn as sns\n",
    "import os\n",
    "from sklearn.linear_model import LogisticRegression\n",
    "from sklearn.model_selection import TimeSeriesSplit\n",
    "from sklearn.ensemble import RandomForestClassifier\n",
    "from sklearn.model_selection import GridSearchCV\n",
    "from sklearn.neighbors import KNeighborsClassifier\n",
    "from sklearn.svm import SVC\n",
    "import lightgbm as lgb\n"
   ]
  },
  {
   "cell_type": "code",
   "execution_count": 5,
   "id": "1a0f670a",
   "metadata": {},
   "outputs": [
    {
     "data": {
      "text/html": [
       "<div>\n",
       "<style scoped>\n",
       "    .dataframe tbody tr th:only-of-type {\n",
       "        vertical-align: middle;\n",
       "    }\n",
       "\n",
       "    .dataframe tbody tr th {\n",
       "        vertical-align: top;\n",
       "    }\n",
       "\n",
       "    .dataframe thead th {\n",
       "        text-align: right;\n",
       "    }\n",
       "</style>\n",
       "<table border=\"1\" class=\"dataframe\">\n",
       "  <thead>\n",
       "    <tr style=\"text-align: right;\">\n",
       "      <th></th>\n",
       "      <th>Unnamed: 0</th>\n",
       "      <th>5th_CS_min_blue</th>\n",
       "      <th>4th_CS_min_blue</th>\n",
       "      <th>3rd_CS_min_blue</th>\n",
       "      <th>2nd_CS_min_blue</th>\n",
       "      <th>1st_CS_min_blue</th>\n",
       "      <th>5th_CS_min_red</th>\n",
       "      <th>4th_CS_min_red</th>\n",
       "      <th>3rd_CS_min_red</th>\n",
       "      <th>2nd_CS_min_red</th>\n",
       "      <th>...</th>\n",
       "      <th>4th_MP_blue</th>\n",
       "      <th>3rd_MP_blue</th>\n",
       "      <th>2nd_MP_blue</th>\n",
       "      <th>1st_MP_blue</th>\n",
       "      <th>5th_MP_red</th>\n",
       "      <th>4th_MP_red</th>\n",
       "      <th>3rd_MP_red</th>\n",
       "      <th>2nd_MP_red</th>\n",
       "      <th>1st_MP_red</th>\n",
       "      <th>target</th>\n",
       "    </tr>\n",
       "  </thead>\n",
       "  <tbody>\n",
       "    <tr>\n",
       "      <th>0</th>\n",
       "      <td>0</td>\n",
       "      <td>1.976583</td>\n",
       "      <td>4.573580</td>\n",
       "      <td>4.756204</td>\n",
       "      <td>5.939718</td>\n",
       "      <td>6.626648</td>\n",
       "      <td>1.162788</td>\n",
       "      <td>4.747214</td>\n",
       "      <td>5.366882</td>\n",
       "      <td>5.895539</td>\n",
       "      <td>...</td>\n",
       "      <td>6045</td>\n",
       "      <td>27869</td>\n",
       "      <td>139033</td>\n",
       "      <td>90591</td>\n",
       "      <td>17226</td>\n",
       "      <td>60900</td>\n",
       "      <td>104796.0</td>\n",
       "      <td>5702</td>\n",
       "      <td>6894.0</td>\n",
       "      <td>1</td>\n",
       "    </tr>\n",
       "    <tr>\n",
       "      <th>1</th>\n",
       "      <td>1</td>\n",
       "      <td>3.867070</td>\n",
       "      <td>5.469181</td>\n",
       "      <td>5.623977</td>\n",
       "      <td>6.249752</td>\n",
       "      <td>6.870524</td>\n",
       "      <td>0.740881</td>\n",
       "      <td>3.587890</td>\n",
       "      <td>5.125936</td>\n",
       "      <td>5.649067</td>\n",
       "      <td>...</td>\n",
       "      <td>12382</td>\n",
       "      <td>39489</td>\n",
       "      <td>1173761</td>\n",
       "      <td>230329</td>\n",
       "      <td>2342839</td>\n",
       "      <td>25119</td>\n",
       "      <td>39085.0</td>\n",
       "      <td>120399</td>\n",
       "      <td>81033.0</td>\n",
       "      <td>0</td>\n",
       "    </tr>\n",
       "    <tr>\n",
       "      <th>2</th>\n",
       "      <td>2</td>\n",
       "      <td>1.080000</td>\n",
       "      <td>4.598162</td>\n",
       "      <td>4.825763</td>\n",
       "      <td>5.340403</td>\n",
       "      <td>5.681439</td>\n",
       "      <td>2.085663</td>\n",
       "      <td>4.498963</td>\n",
       "      <td>4.766707</td>\n",
       "      <td>5.405575</td>\n",
       "      <td>...</td>\n",
       "      <td>35375</td>\n",
       "      <td>18062</td>\n",
       "      <td>30808</td>\n",
       "      <td>53165</td>\n",
       "      <td>10990</td>\n",
       "      <td>1209</td>\n",
       "      <td>11605.0</td>\n",
       "      <td>17510</td>\n",
       "      <td>1377402.0</td>\n",
       "      <td>1</td>\n",
       "    </tr>\n",
       "    <tr>\n",
       "      <th>3</th>\n",
       "      <td>3</td>\n",
       "      <td>0.363769</td>\n",
       "      <td>2.671286</td>\n",
       "      <td>4.984266</td>\n",
       "      <td>5.148903</td>\n",
       "      <td>5.976233</td>\n",
       "      <td>1.734322</td>\n",
       "      <td>5.071400</td>\n",
       "      <td>5.178816</td>\n",
       "      <td>6.166968</td>\n",
       "      <td>...</td>\n",
       "      <td>191837</td>\n",
       "      <td>193851</td>\n",
       "      <td>27186</td>\n",
       "      <td>159593</td>\n",
       "      <td>464856</td>\n",
       "      <td>47094</td>\n",
       "      <td>58443.0</td>\n",
       "      <td>87329</td>\n",
       "      <td>19550.0</td>\n",
       "      <td>0</td>\n",
       "    </tr>\n",
       "    <tr>\n",
       "      <th>4</th>\n",
       "      <td>4</td>\n",
       "      <td>1.368294</td>\n",
       "      <td>4.925813</td>\n",
       "      <td>5.484073</td>\n",
       "      <td>5.915913</td>\n",
       "      <td>6.164462</td>\n",
       "      <td>0.815051</td>\n",
       "      <td>5.392639</td>\n",
       "      <td>5.477247</td>\n",
       "      <td>6.682713</td>\n",
       "      <td>...</td>\n",
       "      <td>101033</td>\n",
       "      <td>1233</td>\n",
       "      <td>34450</td>\n",
       "      <td>15688</td>\n",
       "      <td>11980</td>\n",
       "      <td>22250</td>\n",
       "      <td>52517.0</td>\n",
       "      <td>71398</td>\n",
       "      <td>11441.0</td>\n",
       "      <td>1</td>\n",
       "    </tr>\n",
       "    <tr>\n",
       "      <th>...</th>\n",
       "      <td>...</td>\n",
       "      <td>...</td>\n",
       "      <td>...</td>\n",
       "      <td>...</td>\n",
       "      <td>...</td>\n",
       "      <td>...</td>\n",
       "      <td>...</td>\n",
       "      <td>...</td>\n",
       "      <td>...</td>\n",
       "      <td>...</td>\n",
       "      <td>...</td>\n",
       "      <td>...</td>\n",
       "      <td>...</td>\n",
       "      <td>...</td>\n",
       "      <td>...</td>\n",
       "      <td>...</td>\n",
       "      <td>...</td>\n",
       "      <td>...</td>\n",
       "      <td>...</td>\n",
       "      <td>...</td>\n",
       "      <td>...</td>\n",
       "    </tr>\n",
       "    <tr>\n",
       "      <th>927</th>\n",
       "      <td>927</td>\n",
       "      <td>0.206679</td>\n",
       "      <td>3.242855</td>\n",
       "      <td>3.858181</td>\n",
       "      <td>4.125231</td>\n",
       "      <td>5.436693</td>\n",
       "      <td>3.042890</td>\n",
       "      <td>4.194576</td>\n",
       "      <td>4.323031</td>\n",
       "      <td>4.890833</td>\n",
       "      <td>...</td>\n",
       "      <td>10650</td>\n",
       "      <td>35904</td>\n",
       "      <td>56382</td>\n",
       "      <td>495855</td>\n",
       "      <td>66034</td>\n",
       "      <td>2743</td>\n",
       "      <td>709380.0</td>\n",
       "      <td>721154</td>\n",
       "      <td>202130.0</td>\n",
       "      <td>1</td>\n",
       "    </tr>\n",
       "    <tr>\n",
       "      <th>928</th>\n",
       "      <td>928</td>\n",
       "      <td>1.513932</td>\n",
       "      <td>4.858114</td>\n",
       "      <td>5.456084</td>\n",
       "      <td>6.261634</td>\n",
       "      <td>6.332916</td>\n",
       "      <td>4.486468</td>\n",
       "      <td>4.896937</td>\n",
       "      <td>4.932086</td>\n",
       "      <td>5.188566</td>\n",
       "      <td>...</td>\n",
       "      <td>1414</td>\n",
       "      <td>85240</td>\n",
       "      <td>100878</td>\n",
       "      <td>543559</td>\n",
       "      <td>6775</td>\n",
       "      <td>946303</td>\n",
       "      <td>12643.0</td>\n",
       "      <td>3374</td>\n",
       "      <td>2092.0</td>\n",
       "      <td>1</td>\n",
       "    </tr>\n",
       "    <tr>\n",
       "      <th>929</th>\n",
       "      <td>929</td>\n",
       "      <td>1.941900</td>\n",
       "      <td>4.367879</td>\n",
       "      <td>4.490651</td>\n",
       "      <td>5.920417</td>\n",
       "      <td>6.566390</td>\n",
       "      <td>0.475627</td>\n",
       "      <td>3.839915</td>\n",
       "      <td>4.261205</td>\n",
       "      <td>5.287674</td>\n",
       "      <td>...</td>\n",
       "      <td>7072</td>\n",
       "      <td>37538</td>\n",
       "      <td>139703</td>\n",
       "      <td>150471</td>\n",
       "      <td>152271</td>\n",
       "      <td>8974</td>\n",
       "      <td>27138.0</td>\n",
       "      <td>9033</td>\n",
       "      <td>178701.0</td>\n",
       "      <td>0</td>\n",
       "    </tr>\n",
       "    <tr>\n",
       "      <th>930</th>\n",
       "      <td>930</td>\n",
       "      <td>1.697442</td>\n",
       "      <td>2.560060</td>\n",
       "      <td>5.208572</td>\n",
       "      <td>6.171789</td>\n",
       "      <td>6.474445</td>\n",
       "      <td>1.276204</td>\n",
       "      <td>5.618855</td>\n",
       "      <td>6.072157</td>\n",
       "      <td>6.331045</td>\n",
       "      <td>...</td>\n",
       "      <td>3571</td>\n",
       "      <td>48540</td>\n",
       "      <td>11851</td>\n",
       "      <td>3029</td>\n",
       "      <td>38679</td>\n",
       "      <td>352602</td>\n",
       "      <td>394108.0</td>\n",
       "      <td>65706</td>\n",
       "      <td>825205.0</td>\n",
       "      <td>1</td>\n",
       "    </tr>\n",
       "    <tr>\n",
       "      <th>931</th>\n",
       "      <td>931</td>\n",
       "      <td>4.303957</td>\n",
       "      <td>4.670731</td>\n",
       "      <td>5.653987</td>\n",
       "      <td>5.995154</td>\n",
       "      <td>7.971635</td>\n",
       "      <td>2.672117</td>\n",
       "      <td>4.052760</td>\n",
       "      <td>6.136530</td>\n",
       "      <td>6.356045</td>\n",
       "      <td>...</td>\n",
       "      <td>16194</td>\n",
       "      <td>3701</td>\n",
       "      <td>28753</td>\n",
       "      <td>185606</td>\n",
       "      <td>154804</td>\n",
       "      <td>20162</td>\n",
       "      <td>22799.0</td>\n",
       "      <td>377933</td>\n",
       "      <td>4997.0</td>\n",
       "      <td>0</td>\n",
       "    </tr>\n",
       "  </tbody>\n",
       "</table>\n",
       "<p>932 rows × 32 columns</p>\n",
       "</div>"
      ],
      "text/plain": [
       "     Unnamed: 0  5th_CS_min_blue  4th_CS_min_blue  3rd_CS_min_blue  \\\n",
       "0             0         1.976583         4.573580         4.756204   \n",
       "1             1         3.867070         5.469181         5.623977   \n",
       "2             2         1.080000         4.598162         4.825763   \n",
       "3             3         0.363769         2.671286         4.984266   \n",
       "4             4         1.368294         4.925813         5.484073   \n",
       "..          ...              ...              ...              ...   \n",
       "927         927         0.206679         3.242855         3.858181   \n",
       "928         928         1.513932         4.858114         5.456084   \n",
       "929         929         1.941900         4.367879         4.490651   \n",
       "930         930         1.697442         2.560060         5.208572   \n",
       "931         931         4.303957         4.670731         5.653987   \n",
       "\n",
       "     2nd_CS_min_blue  1st_CS_min_blue  5th_CS_min_red  4th_CS_min_red  \\\n",
       "0           5.939718         6.626648        1.162788        4.747214   \n",
       "1           6.249752         6.870524        0.740881        3.587890   \n",
       "2           5.340403         5.681439        2.085663        4.498963   \n",
       "3           5.148903         5.976233        1.734322        5.071400   \n",
       "4           5.915913         6.164462        0.815051        5.392639   \n",
       "..               ...              ...             ...             ...   \n",
       "927         4.125231         5.436693        3.042890        4.194576   \n",
       "928         6.261634         6.332916        4.486468        4.896937   \n",
       "929         5.920417         6.566390        0.475627        3.839915   \n",
       "930         6.171789         6.474445        1.276204        5.618855   \n",
       "931         5.995154         7.971635        2.672117        4.052760   \n",
       "\n",
       "     3rd_CS_min_red  2nd_CS_min_red  ...  4th_MP_blue  3rd_MP_blue  \\\n",
       "0          5.366882        5.895539  ...         6045        27869   \n",
       "1          5.125936        5.649067  ...        12382        39489   \n",
       "2          4.766707        5.405575  ...        35375        18062   \n",
       "3          5.178816        6.166968  ...       191837       193851   \n",
       "4          5.477247        6.682713  ...       101033         1233   \n",
       "..              ...             ...  ...          ...          ...   \n",
       "927        4.323031        4.890833  ...        10650        35904   \n",
       "928        4.932086        5.188566  ...         1414        85240   \n",
       "929        4.261205        5.287674  ...         7072        37538   \n",
       "930        6.072157        6.331045  ...         3571        48540   \n",
       "931        6.136530        6.356045  ...        16194         3701   \n",
       "\n",
       "     2nd_MP_blue  1st_MP_blue  5th_MP_red  4th_MP_red  3rd_MP_red  2nd_MP_red  \\\n",
       "0         139033        90591       17226       60900    104796.0        5702   \n",
       "1        1173761       230329     2342839       25119     39085.0      120399   \n",
       "2          30808        53165       10990        1209     11605.0       17510   \n",
       "3          27186       159593      464856       47094     58443.0       87329   \n",
       "4          34450        15688       11980       22250     52517.0       71398   \n",
       "..           ...          ...         ...         ...         ...         ...   \n",
       "927        56382       495855       66034        2743    709380.0      721154   \n",
       "928       100878       543559        6775      946303     12643.0        3374   \n",
       "929       139703       150471      152271        8974     27138.0        9033   \n",
       "930        11851         3029       38679      352602    394108.0       65706   \n",
       "931        28753       185606      154804       20162     22799.0      377933   \n",
       "\n",
       "     1st_MP_red  target  \n",
       "0        6894.0       1  \n",
       "1       81033.0       0  \n",
       "2     1377402.0       1  \n",
       "3       19550.0       0  \n",
       "4       11441.0       1  \n",
       "..          ...     ...  \n",
       "927    202130.0       1  \n",
       "928      2092.0       1  \n",
       "929    178701.0       0  \n",
       "930    825205.0       1  \n",
       "931      4997.0       0  \n",
       "\n",
       "[932 rows x 32 columns]"
      ]
     },
     "execution_count": 5,
     "metadata": {},
     "output_type": "execute_result"
    }
   ],
   "source": [
    "df = pd.read_csv('C:\\\\Users\\\\gmbas\\\\Downloads\\\\Files_lol_project\\\\datasets\\\\932_matches_df_21_06')\n",
    "df"
   ]
  },
  {
   "cell_type": "code",
   "execution_count": 6,
   "id": "bb7b3860",
   "metadata": {},
   "outputs": [
    {
     "data": {
      "text/plain": [
       "Index(['Unnamed: 0', '5th_CS_min_blue', '4th_CS_min_blue', '3rd_CS_min_blue',\n",
       "       '2nd_CS_min_blue', '1st_CS_min_blue', '5th_CS_min_red',\n",
       "       '4th_CS_min_red', '3rd_CS_min_red', '2nd_CS_min_red', '1st_CS_min_red',\n",
       "       '5th_kda_blue', '4th_kda_blue', '3rd_kda_blue', '2nd_kda_blue',\n",
       "       '1st_kda_blue', '5th_kda_red', '4th_kda_red', '3rd_kda_red',\n",
       "       '2nd_kda_red', '1st_kda_red', '5th_MP_blue', '4th_MP_blue',\n",
       "       '3rd_MP_blue', '2nd_MP_blue', '1st_MP_blue', '5th_MP_red', '4th_MP_red',\n",
       "       '3rd_MP_red', '2nd_MP_red', '1st_MP_red', 'target'],\n",
       "      dtype='object')"
      ]
     },
     "execution_count": 6,
     "metadata": {},
     "output_type": "execute_result"
    }
   ],
   "source": [
    "df.columns"
   ]
  },
  {
   "cell_type": "code",
   "execution_count": 7,
   "id": "cb755e23",
   "metadata": {},
   "outputs": [
    {
     "data": {
      "text/html": [
       "<div>\n",
       "<style scoped>\n",
       "    .dataframe tbody tr th:only-of-type {\n",
       "        vertical-align: middle;\n",
       "    }\n",
       "\n",
       "    .dataframe tbody tr th {\n",
       "        vertical-align: top;\n",
       "    }\n",
       "\n",
       "    .dataframe thead th {\n",
       "        text-align: right;\n",
       "    }\n",
       "</style>\n",
       "<table border=\"1\" class=\"dataframe\">\n",
       "  <thead>\n",
       "    <tr style=\"text-align: right;\">\n",
       "      <th></th>\n",
       "      <th>5th_CS_min_blue</th>\n",
       "      <th>4th_CS_min_blue</th>\n",
       "      <th>3rd_CS_min_blue</th>\n",
       "      <th>2nd_CS_min_blue</th>\n",
       "      <th>1st_CS_min_blue</th>\n",
       "      <th>5th_CS_min_red</th>\n",
       "      <th>4th_CS_min_red</th>\n",
       "      <th>3rd_CS_min_red</th>\n",
       "      <th>2nd_CS_min_red</th>\n",
       "      <th>1st_CS_min_red</th>\n",
       "      <th>...</th>\n",
       "      <th>4th_MP_blue</th>\n",
       "      <th>3rd_MP_blue</th>\n",
       "      <th>2nd_MP_blue</th>\n",
       "      <th>1st_MP_blue</th>\n",
       "      <th>5th_MP_red</th>\n",
       "      <th>4th_MP_red</th>\n",
       "      <th>3rd_MP_red</th>\n",
       "      <th>2nd_MP_red</th>\n",
       "      <th>1st_MP_red</th>\n",
       "      <th>target</th>\n",
       "    </tr>\n",
       "  </thead>\n",
       "  <tbody>\n",
       "    <tr>\n",
       "      <th>0</th>\n",
       "      <td>1.976583</td>\n",
       "      <td>4.573580</td>\n",
       "      <td>4.756204</td>\n",
       "      <td>5.939718</td>\n",
       "      <td>6.626648</td>\n",
       "      <td>1.162788</td>\n",
       "      <td>4.747214</td>\n",
       "      <td>5.366882</td>\n",
       "      <td>5.895539</td>\n",
       "      <td>6.067965</td>\n",
       "      <td>...</td>\n",
       "      <td>6045</td>\n",
       "      <td>27869</td>\n",
       "      <td>139033</td>\n",
       "      <td>90591</td>\n",
       "      <td>17226</td>\n",
       "      <td>60900</td>\n",
       "      <td>104796.0</td>\n",
       "      <td>5702</td>\n",
       "      <td>6894.0</td>\n",
       "      <td>1</td>\n",
       "    </tr>\n",
       "    <tr>\n",
       "      <th>1</th>\n",
       "      <td>3.867070</td>\n",
       "      <td>5.469181</td>\n",
       "      <td>5.623977</td>\n",
       "      <td>6.249752</td>\n",
       "      <td>6.870524</td>\n",
       "      <td>0.740881</td>\n",
       "      <td>3.587890</td>\n",
       "      <td>5.125936</td>\n",
       "      <td>5.649067</td>\n",
       "      <td>6.146694</td>\n",
       "      <td>...</td>\n",
       "      <td>12382</td>\n",
       "      <td>39489</td>\n",
       "      <td>1173761</td>\n",
       "      <td>230329</td>\n",
       "      <td>2342839</td>\n",
       "      <td>25119</td>\n",
       "      <td>39085.0</td>\n",
       "      <td>120399</td>\n",
       "      <td>81033.0</td>\n",
       "      <td>0</td>\n",
       "    </tr>\n",
       "    <tr>\n",
       "      <th>2</th>\n",
       "      <td>1.080000</td>\n",
       "      <td>4.598162</td>\n",
       "      <td>4.825763</td>\n",
       "      <td>5.340403</td>\n",
       "      <td>5.681439</td>\n",
       "      <td>2.085663</td>\n",
       "      <td>4.498963</td>\n",
       "      <td>4.766707</td>\n",
       "      <td>5.405575</td>\n",
       "      <td>6.289723</td>\n",
       "      <td>...</td>\n",
       "      <td>35375</td>\n",
       "      <td>18062</td>\n",
       "      <td>30808</td>\n",
       "      <td>53165</td>\n",
       "      <td>10990</td>\n",
       "      <td>1209</td>\n",
       "      <td>11605.0</td>\n",
       "      <td>17510</td>\n",
       "      <td>1377402.0</td>\n",
       "      <td>1</td>\n",
       "    </tr>\n",
       "    <tr>\n",
       "      <th>3</th>\n",
       "      <td>0.363769</td>\n",
       "      <td>2.671286</td>\n",
       "      <td>4.984266</td>\n",
       "      <td>5.148903</td>\n",
       "      <td>5.976233</td>\n",
       "      <td>1.734322</td>\n",
       "      <td>5.071400</td>\n",
       "      <td>5.178816</td>\n",
       "      <td>6.166968</td>\n",
       "      <td>6.529087</td>\n",
       "      <td>...</td>\n",
       "      <td>191837</td>\n",
       "      <td>193851</td>\n",
       "      <td>27186</td>\n",
       "      <td>159593</td>\n",
       "      <td>464856</td>\n",
       "      <td>47094</td>\n",
       "      <td>58443.0</td>\n",
       "      <td>87329</td>\n",
       "      <td>19550.0</td>\n",
       "      <td>0</td>\n",
       "    </tr>\n",
       "    <tr>\n",
       "      <th>4</th>\n",
       "      <td>1.368294</td>\n",
       "      <td>4.925813</td>\n",
       "      <td>5.484073</td>\n",
       "      <td>5.915913</td>\n",
       "      <td>6.164462</td>\n",
       "      <td>0.815051</td>\n",
       "      <td>5.392639</td>\n",
       "      <td>5.477247</td>\n",
       "      <td>6.682713</td>\n",
       "      <td>7.049121</td>\n",
       "      <td>...</td>\n",
       "      <td>101033</td>\n",
       "      <td>1233</td>\n",
       "      <td>34450</td>\n",
       "      <td>15688</td>\n",
       "      <td>11980</td>\n",
       "      <td>22250</td>\n",
       "      <td>52517.0</td>\n",
       "      <td>71398</td>\n",
       "      <td>11441.0</td>\n",
       "      <td>1</td>\n",
       "    </tr>\n",
       "    <tr>\n",
       "      <th>...</th>\n",
       "      <td>...</td>\n",
       "      <td>...</td>\n",
       "      <td>...</td>\n",
       "      <td>...</td>\n",
       "      <td>...</td>\n",
       "      <td>...</td>\n",
       "      <td>...</td>\n",
       "      <td>...</td>\n",
       "      <td>...</td>\n",
       "      <td>...</td>\n",
       "      <td>...</td>\n",
       "      <td>...</td>\n",
       "      <td>...</td>\n",
       "      <td>...</td>\n",
       "      <td>...</td>\n",
       "      <td>...</td>\n",
       "      <td>...</td>\n",
       "      <td>...</td>\n",
       "      <td>...</td>\n",
       "      <td>...</td>\n",
       "      <td>...</td>\n",
       "    </tr>\n",
       "    <tr>\n",
       "      <th>927</th>\n",
       "      <td>0.206679</td>\n",
       "      <td>3.242855</td>\n",
       "      <td>3.858181</td>\n",
       "      <td>4.125231</td>\n",
       "      <td>5.436693</td>\n",
       "      <td>3.042890</td>\n",
       "      <td>4.194576</td>\n",
       "      <td>4.323031</td>\n",
       "      <td>4.890833</td>\n",
       "      <td>5.414535</td>\n",
       "      <td>...</td>\n",
       "      <td>10650</td>\n",
       "      <td>35904</td>\n",
       "      <td>56382</td>\n",
       "      <td>495855</td>\n",
       "      <td>66034</td>\n",
       "      <td>2743</td>\n",
       "      <td>709380.0</td>\n",
       "      <td>721154</td>\n",
       "      <td>202130.0</td>\n",
       "      <td>1</td>\n",
       "    </tr>\n",
       "    <tr>\n",
       "      <th>928</th>\n",
       "      <td>1.513932</td>\n",
       "      <td>4.858114</td>\n",
       "      <td>5.456084</td>\n",
       "      <td>6.261634</td>\n",
       "      <td>6.332916</td>\n",
       "      <td>4.486468</td>\n",
       "      <td>4.896937</td>\n",
       "      <td>4.932086</td>\n",
       "      <td>5.188566</td>\n",
       "      <td>5.850610</td>\n",
       "      <td>...</td>\n",
       "      <td>1414</td>\n",
       "      <td>85240</td>\n",
       "      <td>100878</td>\n",
       "      <td>543559</td>\n",
       "      <td>6775</td>\n",
       "      <td>946303</td>\n",
       "      <td>12643.0</td>\n",
       "      <td>3374</td>\n",
       "      <td>2092.0</td>\n",
       "      <td>1</td>\n",
       "    </tr>\n",
       "    <tr>\n",
       "      <th>929</th>\n",
       "      <td>1.941900</td>\n",
       "      <td>4.367879</td>\n",
       "      <td>4.490651</td>\n",
       "      <td>5.920417</td>\n",
       "      <td>6.566390</td>\n",
       "      <td>0.475627</td>\n",
       "      <td>3.839915</td>\n",
       "      <td>4.261205</td>\n",
       "      <td>5.287674</td>\n",
       "      <td>5.424155</td>\n",
       "      <td>...</td>\n",
       "      <td>7072</td>\n",
       "      <td>37538</td>\n",
       "      <td>139703</td>\n",
       "      <td>150471</td>\n",
       "      <td>152271</td>\n",
       "      <td>8974</td>\n",
       "      <td>27138.0</td>\n",
       "      <td>9033</td>\n",
       "      <td>178701.0</td>\n",
       "      <td>0</td>\n",
       "    </tr>\n",
       "    <tr>\n",
       "      <th>930</th>\n",
       "      <td>1.697442</td>\n",
       "      <td>2.560060</td>\n",
       "      <td>5.208572</td>\n",
       "      <td>6.171789</td>\n",
       "      <td>6.474445</td>\n",
       "      <td>1.276204</td>\n",
       "      <td>5.618855</td>\n",
       "      <td>6.072157</td>\n",
       "      <td>6.331045</td>\n",
       "      <td>6.960445</td>\n",
       "      <td>...</td>\n",
       "      <td>3571</td>\n",
       "      <td>48540</td>\n",
       "      <td>11851</td>\n",
       "      <td>3029</td>\n",
       "      <td>38679</td>\n",
       "      <td>352602</td>\n",
       "      <td>394108.0</td>\n",
       "      <td>65706</td>\n",
       "      <td>825205.0</td>\n",
       "      <td>1</td>\n",
       "    </tr>\n",
       "    <tr>\n",
       "      <th>931</th>\n",
       "      <td>4.303957</td>\n",
       "      <td>4.670731</td>\n",
       "      <td>5.653987</td>\n",
       "      <td>5.995154</td>\n",
       "      <td>7.971635</td>\n",
       "      <td>2.672117</td>\n",
       "      <td>4.052760</td>\n",
       "      <td>6.136530</td>\n",
       "      <td>6.356045</td>\n",
       "      <td>6.387555</td>\n",
       "      <td>...</td>\n",
       "      <td>16194</td>\n",
       "      <td>3701</td>\n",
       "      <td>28753</td>\n",
       "      <td>185606</td>\n",
       "      <td>154804</td>\n",
       "      <td>20162</td>\n",
       "      <td>22799.0</td>\n",
       "      <td>377933</td>\n",
       "      <td>4997.0</td>\n",
       "      <td>0</td>\n",
       "    </tr>\n",
       "  </tbody>\n",
       "</table>\n",
       "<p>932 rows × 31 columns</p>\n",
       "</div>"
      ],
      "text/plain": [
       "     5th_CS_min_blue  4th_CS_min_blue  3rd_CS_min_blue  2nd_CS_min_blue  \\\n",
       "0           1.976583         4.573580         4.756204         5.939718   \n",
       "1           3.867070         5.469181         5.623977         6.249752   \n",
       "2           1.080000         4.598162         4.825763         5.340403   \n",
       "3           0.363769         2.671286         4.984266         5.148903   \n",
       "4           1.368294         4.925813         5.484073         5.915913   \n",
       "..               ...              ...              ...              ...   \n",
       "927         0.206679         3.242855         3.858181         4.125231   \n",
       "928         1.513932         4.858114         5.456084         6.261634   \n",
       "929         1.941900         4.367879         4.490651         5.920417   \n",
       "930         1.697442         2.560060         5.208572         6.171789   \n",
       "931         4.303957         4.670731         5.653987         5.995154   \n",
       "\n",
       "     1st_CS_min_blue  5th_CS_min_red  4th_CS_min_red  3rd_CS_min_red  \\\n",
       "0           6.626648        1.162788        4.747214        5.366882   \n",
       "1           6.870524        0.740881        3.587890        5.125936   \n",
       "2           5.681439        2.085663        4.498963        4.766707   \n",
       "3           5.976233        1.734322        5.071400        5.178816   \n",
       "4           6.164462        0.815051        5.392639        5.477247   \n",
       "..               ...             ...             ...             ...   \n",
       "927         5.436693        3.042890        4.194576        4.323031   \n",
       "928         6.332916        4.486468        4.896937        4.932086   \n",
       "929         6.566390        0.475627        3.839915        4.261205   \n",
       "930         6.474445        1.276204        5.618855        6.072157   \n",
       "931         7.971635        2.672117        4.052760        6.136530   \n",
       "\n",
       "     2nd_CS_min_red  1st_CS_min_red  ...  4th_MP_blue  3rd_MP_blue  \\\n",
       "0          5.895539        6.067965  ...         6045        27869   \n",
       "1          5.649067        6.146694  ...        12382        39489   \n",
       "2          5.405575        6.289723  ...        35375        18062   \n",
       "3          6.166968        6.529087  ...       191837       193851   \n",
       "4          6.682713        7.049121  ...       101033         1233   \n",
       "..              ...             ...  ...          ...          ...   \n",
       "927        4.890833        5.414535  ...        10650        35904   \n",
       "928        5.188566        5.850610  ...         1414        85240   \n",
       "929        5.287674        5.424155  ...         7072        37538   \n",
       "930        6.331045        6.960445  ...         3571        48540   \n",
       "931        6.356045        6.387555  ...        16194         3701   \n",
       "\n",
       "     2nd_MP_blue  1st_MP_blue  5th_MP_red  4th_MP_red  3rd_MP_red  2nd_MP_red  \\\n",
       "0         139033        90591       17226       60900    104796.0        5702   \n",
       "1        1173761       230329     2342839       25119     39085.0      120399   \n",
       "2          30808        53165       10990        1209     11605.0       17510   \n",
       "3          27186       159593      464856       47094     58443.0       87329   \n",
       "4          34450        15688       11980       22250     52517.0       71398   \n",
       "..           ...          ...         ...         ...         ...         ...   \n",
       "927        56382       495855       66034        2743    709380.0      721154   \n",
       "928       100878       543559        6775      946303     12643.0        3374   \n",
       "929       139703       150471      152271        8974     27138.0        9033   \n",
       "930        11851         3029       38679      352602    394108.0       65706   \n",
       "931        28753       185606      154804       20162     22799.0      377933   \n",
       "\n",
       "     1st_MP_red  target  \n",
       "0        6894.0       1  \n",
       "1       81033.0       0  \n",
       "2     1377402.0       1  \n",
       "3       19550.0       0  \n",
       "4       11441.0       1  \n",
       "..          ...     ...  \n",
       "927    202130.0       1  \n",
       "928      2092.0       1  \n",
       "929    178701.0       0  \n",
       "930    825205.0       1  \n",
       "931      4997.0       0  \n",
       "\n",
       "[932 rows x 31 columns]"
      ]
     },
     "execution_count": 7,
     "metadata": {},
     "output_type": "execute_result"
    }
   ],
   "source": [
    "df = df.drop('Unnamed: 0',axis = 1)\n",
    "df"
   ]
  },
  {
   "cell_type": "code",
   "execution_count": 8,
   "id": "9da8457f",
   "metadata": {},
   "outputs": [
    {
     "data": {
      "text/html": [
       "<div>\n",
       "<style scoped>\n",
       "    .dataframe tbody tr th:only-of-type {\n",
       "        vertical-align: middle;\n",
       "    }\n",
       "\n",
       "    .dataframe tbody tr th {\n",
       "        vertical-align: top;\n",
       "    }\n",
       "\n",
       "    .dataframe thead th {\n",
       "        text-align: right;\n",
       "    }\n",
       "</style>\n",
       "<table border=\"1\" class=\"dataframe\">\n",
       "  <thead>\n",
       "    <tr style=\"text-align: right;\">\n",
       "      <th></th>\n",
       "      <th>5th_CS_min_blue</th>\n",
       "      <th>4th_CS_min_blue</th>\n",
       "      <th>3rd_CS_min_blue</th>\n",
       "      <th>2nd_CS_min_blue</th>\n",
       "      <th>1st_CS_min_blue</th>\n",
       "      <th>5th_CS_min_red</th>\n",
       "      <th>4th_CS_min_red</th>\n",
       "      <th>3rd_CS_min_red</th>\n",
       "      <th>2nd_CS_min_red</th>\n",
       "      <th>1st_CS_min_red</th>\n",
       "      <th>...</th>\n",
       "      <th>4th_kda_blue</th>\n",
       "      <th>3rd_kda_blue</th>\n",
       "      <th>2nd_kda_blue</th>\n",
       "      <th>1st_kda_blue</th>\n",
       "      <th>5th_kda_red</th>\n",
       "      <th>4th_kda_red</th>\n",
       "      <th>3rd_kda_red</th>\n",
       "      <th>2nd_kda_red</th>\n",
       "      <th>1st_kda_red</th>\n",
       "      <th>target</th>\n",
       "    </tr>\n",
       "  </thead>\n",
       "  <tbody>\n",
       "    <tr>\n",
       "      <th>0</th>\n",
       "      <td>1.976583</td>\n",
       "      <td>4.573580</td>\n",
       "      <td>4.756204</td>\n",
       "      <td>5.939718</td>\n",
       "      <td>6.626648</td>\n",
       "      <td>1.162788</td>\n",
       "      <td>4.747214</td>\n",
       "      <td>5.366882</td>\n",
       "      <td>5.895539</td>\n",
       "      <td>6.067965</td>\n",
       "      <td>...</td>\n",
       "      <td>2.250000</td>\n",
       "      <td>2.516667</td>\n",
       "      <td>2.750000</td>\n",
       "      <td>3.111111</td>\n",
       "      <td>1.354167</td>\n",
       "      <td>1.857143</td>\n",
       "      <td>1.916667</td>\n",
       "      <td>2.000000</td>\n",
       "      <td>2.316667</td>\n",
       "      <td>1</td>\n",
       "    </tr>\n",
       "    <tr>\n",
       "      <th>1</th>\n",
       "      <td>3.867070</td>\n",
       "      <td>5.469181</td>\n",
       "      <td>5.623977</td>\n",
       "      <td>6.249752</td>\n",
       "      <td>6.870524</td>\n",
       "      <td>0.740881</td>\n",
       "      <td>3.587890</td>\n",
       "      <td>5.125936</td>\n",
       "      <td>5.649067</td>\n",
       "      <td>6.146694</td>\n",
       "      <td>...</td>\n",
       "      <td>1.261364</td>\n",
       "      <td>1.571429</td>\n",
       "      <td>2.181818</td>\n",
       "      <td>2.950000</td>\n",
       "      <td>1.520833</td>\n",
       "      <td>1.777778</td>\n",
       "      <td>2.000000</td>\n",
       "      <td>2.173611</td>\n",
       "      <td>3.614286</td>\n",
       "      <td>0</td>\n",
       "    </tr>\n",
       "    <tr>\n",
       "      <th>2</th>\n",
       "      <td>1.080000</td>\n",
       "      <td>4.598162</td>\n",
       "      <td>4.825763</td>\n",
       "      <td>5.340403</td>\n",
       "      <td>5.681439</td>\n",
       "      <td>2.085663</td>\n",
       "      <td>4.498963</td>\n",
       "      <td>4.766707</td>\n",
       "      <td>5.405575</td>\n",
       "      <td>6.289723</td>\n",
       "      <td>...</td>\n",
       "      <td>1.472222</td>\n",
       "      <td>1.645833</td>\n",
       "      <td>1.816667</td>\n",
       "      <td>2.160714</td>\n",
       "      <td>1.708333</td>\n",
       "      <td>1.895833</td>\n",
       "      <td>2.071429</td>\n",
       "      <td>2.386364</td>\n",
       "      <td>2.833333</td>\n",
       "      <td>1</td>\n",
       "    </tr>\n",
       "    <tr>\n",
       "      <th>3</th>\n",
       "      <td>0.363769</td>\n",
       "      <td>2.671286</td>\n",
       "      <td>4.984266</td>\n",
       "      <td>5.148903</td>\n",
       "      <td>5.976233</td>\n",
       "      <td>1.734322</td>\n",
       "      <td>5.071400</td>\n",
       "      <td>5.178816</td>\n",
       "      <td>6.166968</td>\n",
       "      <td>6.529087</td>\n",
       "      <td>...</td>\n",
       "      <td>1.544643</td>\n",
       "      <td>2.275000</td>\n",
       "      <td>2.750000</td>\n",
       "      <td>3.100000</td>\n",
       "      <td>1.623932</td>\n",
       "      <td>1.950000</td>\n",
       "      <td>2.171429</td>\n",
       "      <td>2.616667</td>\n",
       "      <td>2.801587</td>\n",
       "      <td>0</td>\n",
       "    </tr>\n",
       "    <tr>\n",
       "      <th>4</th>\n",
       "      <td>1.368294</td>\n",
       "      <td>4.925813</td>\n",
       "      <td>5.484073</td>\n",
       "      <td>5.915913</td>\n",
       "      <td>6.164462</td>\n",
       "      <td>0.815051</td>\n",
       "      <td>5.392639</td>\n",
       "      <td>5.477247</td>\n",
       "      <td>6.682713</td>\n",
       "      <td>7.049121</td>\n",
       "      <td>...</td>\n",
       "      <td>2.225000</td>\n",
       "      <td>2.330357</td>\n",
       "      <td>2.937500</td>\n",
       "      <td>3.071429</td>\n",
       "      <td>1.866071</td>\n",
       "      <td>1.900000</td>\n",
       "      <td>2.183333</td>\n",
       "      <td>2.750000</td>\n",
       "      <td>4.958333</td>\n",
       "      <td>1</td>\n",
       "    </tr>\n",
       "    <tr>\n",
       "      <th>...</th>\n",
       "      <td>...</td>\n",
       "      <td>...</td>\n",
       "      <td>...</td>\n",
       "      <td>...</td>\n",
       "      <td>...</td>\n",
       "      <td>...</td>\n",
       "      <td>...</td>\n",
       "      <td>...</td>\n",
       "      <td>...</td>\n",
       "      <td>...</td>\n",
       "      <td>...</td>\n",
       "      <td>...</td>\n",
       "      <td>...</td>\n",
       "      <td>...</td>\n",
       "      <td>...</td>\n",
       "      <td>...</td>\n",
       "      <td>...</td>\n",
       "      <td>...</td>\n",
       "      <td>...</td>\n",
       "      <td>...</td>\n",
       "      <td>...</td>\n",
       "    </tr>\n",
       "    <tr>\n",
       "      <th>927</th>\n",
       "      <td>0.206679</td>\n",
       "      <td>3.242855</td>\n",
       "      <td>3.858181</td>\n",
       "      <td>4.125231</td>\n",
       "      <td>5.436693</td>\n",
       "      <td>3.042890</td>\n",
       "      <td>4.194576</td>\n",
       "      <td>4.323031</td>\n",
       "      <td>4.890833</td>\n",
       "      <td>5.414535</td>\n",
       "      <td>...</td>\n",
       "      <td>1.812500</td>\n",
       "      <td>2.314286</td>\n",
       "      <td>2.439394</td>\n",
       "      <td>2.500000</td>\n",
       "      <td>1.458333</td>\n",
       "      <td>1.466667</td>\n",
       "      <td>1.483333</td>\n",
       "      <td>1.680556</td>\n",
       "      <td>2.048611</td>\n",
       "      <td>1</td>\n",
       "    </tr>\n",
       "    <tr>\n",
       "      <th>928</th>\n",
       "      <td>1.513932</td>\n",
       "      <td>4.858114</td>\n",
       "      <td>5.456084</td>\n",
       "      <td>6.261634</td>\n",
       "      <td>6.332916</td>\n",
       "      <td>4.486468</td>\n",
       "      <td>4.896937</td>\n",
       "      <td>4.932086</td>\n",
       "      <td>5.188566</td>\n",
       "      <td>5.850610</td>\n",
       "      <td>...</td>\n",
       "      <td>2.279221</td>\n",
       "      <td>2.550000</td>\n",
       "      <td>2.687500</td>\n",
       "      <td>2.928571</td>\n",
       "      <td>1.107955</td>\n",
       "      <td>1.236111</td>\n",
       "      <td>1.662500</td>\n",
       "      <td>1.755556</td>\n",
       "      <td>1.812500</td>\n",
       "      <td>1</td>\n",
       "    </tr>\n",
       "    <tr>\n",
       "      <th>929</th>\n",
       "      <td>1.941900</td>\n",
       "      <td>4.367879</td>\n",
       "      <td>4.490651</td>\n",
       "      <td>5.920417</td>\n",
       "      <td>6.566390</td>\n",
       "      <td>0.475627</td>\n",
       "      <td>3.839915</td>\n",
       "      <td>4.261205</td>\n",
       "      <td>5.287674</td>\n",
       "      <td>5.424155</td>\n",
       "      <td>...</td>\n",
       "      <td>1.928571</td>\n",
       "      <td>1.944444</td>\n",
       "      <td>2.303030</td>\n",
       "      <td>2.635714</td>\n",
       "      <td>1.850000</td>\n",
       "      <td>3.000000</td>\n",
       "      <td>3.083333</td>\n",
       "      <td>3.125000</td>\n",
       "      <td>3.162338</td>\n",
       "      <td>0</td>\n",
       "    </tr>\n",
       "    <tr>\n",
       "      <th>930</th>\n",
       "      <td>1.697442</td>\n",
       "      <td>2.560060</td>\n",
       "      <td>5.208572</td>\n",
       "      <td>6.171789</td>\n",
       "      <td>6.474445</td>\n",
       "      <td>1.276204</td>\n",
       "      <td>5.618855</td>\n",
       "      <td>6.072157</td>\n",
       "      <td>6.331045</td>\n",
       "      <td>6.960445</td>\n",
       "      <td>...</td>\n",
       "      <td>1.950000</td>\n",
       "      <td>2.100000</td>\n",
       "      <td>2.900000</td>\n",
       "      <td>3.660714</td>\n",
       "      <td>1.633333</td>\n",
       "      <td>1.708333</td>\n",
       "      <td>2.083333</td>\n",
       "      <td>2.675000</td>\n",
       "      <td>3.000000</td>\n",
       "      <td>1</td>\n",
       "    </tr>\n",
       "    <tr>\n",
       "      <th>931</th>\n",
       "      <td>4.303957</td>\n",
       "      <td>4.670731</td>\n",
       "      <td>5.653987</td>\n",
       "      <td>5.995154</td>\n",
       "      <td>7.971635</td>\n",
       "      <td>2.672117</td>\n",
       "      <td>4.052760</td>\n",
       "      <td>6.136530</td>\n",
       "      <td>6.356045</td>\n",
       "      <td>6.387555</td>\n",
       "      <td>...</td>\n",
       "      <td>2.145833</td>\n",
       "      <td>2.568182</td>\n",
       "      <td>3.345238</td>\n",
       "      <td>5.250000</td>\n",
       "      <td>1.800000</td>\n",
       "      <td>1.812500</td>\n",
       "      <td>1.833333</td>\n",
       "      <td>2.333333</td>\n",
       "      <td>2.585714</td>\n",
       "      <td>0</td>\n",
       "    </tr>\n",
       "  </tbody>\n",
       "</table>\n",
       "<p>932 rows × 21 columns</p>\n",
       "</div>"
      ],
      "text/plain": [
       "     5th_CS_min_blue  4th_CS_min_blue  3rd_CS_min_blue  2nd_CS_min_blue  \\\n",
       "0           1.976583         4.573580         4.756204         5.939718   \n",
       "1           3.867070         5.469181         5.623977         6.249752   \n",
       "2           1.080000         4.598162         4.825763         5.340403   \n",
       "3           0.363769         2.671286         4.984266         5.148903   \n",
       "4           1.368294         4.925813         5.484073         5.915913   \n",
       "..               ...              ...              ...              ...   \n",
       "927         0.206679         3.242855         3.858181         4.125231   \n",
       "928         1.513932         4.858114         5.456084         6.261634   \n",
       "929         1.941900         4.367879         4.490651         5.920417   \n",
       "930         1.697442         2.560060         5.208572         6.171789   \n",
       "931         4.303957         4.670731         5.653987         5.995154   \n",
       "\n",
       "     1st_CS_min_blue  5th_CS_min_red  4th_CS_min_red  3rd_CS_min_red  \\\n",
       "0           6.626648        1.162788        4.747214        5.366882   \n",
       "1           6.870524        0.740881        3.587890        5.125936   \n",
       "2           5.681439        2.085663        4.498963        4.766707   \n",
       "3           5.976233        1.734322        5.071400        5.178816   \n",
       "4           6.164462        0.815051        5.392639        5.477247   \n",
       "..               ...             ...             ...             ...   \n",
       "927         5.436693        3.042890        4.194576        4.323031   \n",
       "928         6.332916        4.486468        4.896937        4.932086   \n",
       "929         6.566390        0.475627        3.839915        4.261205   \n",
       "930         6.474445        1.276204        5.618855        6.072157   \n",
       "931         7.971635        2.672117        4.052760        6.136530   \n",
       "\n",
       "     2nd_CS_min_red  1st_CS_min_red  ...  4th_kda_blue  3rd_kda_blue  \\\n",
       "0          5.895539        6.067965  ...      2.250000      2.516667   \n",
       "1          5.649067        6.146694  ...      1.261364      1.571429   \n",
       "2          5.405575        6.289723  ...      1.472222      1.645833   \n",
       "3          6.166968        6.529087  ...      1.544643      2.275000   \n",
       "4          6.682713        7.049121  ...      2.225000      2.330357   \n",
       "..              ...             ...  ...           ...           ...   \n",
       "927        4.890833        5.414535  ...      1.812500      2.314286   \n",
       "928        5.188566        5.850610  ...      2.279221      2.550000   \n",
       "929        5.287674        5.424155  ...      1.928571      1.944444   \n",
       "930        6.331045        6.960445  ...      1.950000      2.100000   \n",
       "931        6.356045        6.387555  ...      2.145833      2.568182   \n",
       "\n",
       "     2nd_kda_blue  1st_kda_blue  5th_kda_red  4th_kda_red  3rd_kda_red  \\\n",
       "0        2.750000      3.111111     1.354167     1.857143     1.916667   \n",
       "1        2.181818      2.950000     1.520833     1.777778     2.000000   \n",
       "2        1.816667      2.160714     1.708333     1.895833     2.071429   \n",
       "3        2.750000      3.100000     1.623932     1.950000     2.171429   \n",
       "4        2.937500      3.071429     1.866071     1.900000     2.183333   \n",
       "..            ...           ...          ...          ...          ...   \n",
       "927      2.439394      2.500000     1.458333     1.466667     1.483333   \n",
       "928      2.687500      2.928571     1.107955     1.236111     1.662500   \n",
       "929      2.303030      2.635714     1.850000     3.000000     3.083333   \n",
       "930      2.900000      3.660714     1.633333     1.708333     2.083333   \n",
       "931      3.345238      5.250000     1.800000     1.812500     1.833333   \n",
       "\n",
       "     2nd_kda_red  1st_kda_red  target  \n",
       "0       2.000000     2.316667       1  \n",
       "1       2.173611     3.614286       0  \n",
       "2       2.386364     2.833333       1  \n",
       "3       2.616667     2.801587       0  \n",
       "4       2.750000     4.958333       1  \n",
       "..           ...          ...     ...  \n",
       "927     1.680556     2.048611       1  \n",
       "928     1.755556     1.812500       1  \n",
       "929     3.125000     3.162338       0  \n",
       "930     2.675000     3.000000       1  \n",
       "931     2.333333     2.585714       0  \n",
       "\n",
       "[932 rows x 21 columns]"
      ]
     },
     "execution_count": 8,
     "metadata": {},
     "output_type": "execute_result"
    }
   ],
   "source": [
    "df = df.drop(['5th_MP_blue', '4th_MP_blue',\n",
    "       '3rd_MP_blue', '2nd_MP_blue', '1st_MP_blue', '5th_MP_red', '4th_MP_red',\n",
    "       '3rd_MP_red', '2nd_MP_red', '1st_MP_red'],axis = 1)\n",
    "df"
   ]
  },
  {
   "cell_type": "code",
   "execution_count": 9,
   "id": "a7f39833",
   "metadata": {
    "scrolled": false
   },
   "outputs": [
    {
     "data": {
      "text/plain": [
       "Index(['5th_CS_min_blue', '4th_CS_min_blue', '3rd_CS_min_blue',\n",
       "       '2nd_CS_min_blue', '1st_CS_min_blue', '5th_CS_min_red',\n",
       "       '4th_CS_min_red', '3rd_CS_min_red', '2nd_CS_min_red', '1st_CS_min_red',\n",
       "       '5th_kda_blue', '4th_kda_blue', '3rd_kda_blue', '2nd_kda_blue',\n",
       "       '1st_kda_blue', '5th_kda_red', '4th_kda_red', '3rd_kda_red',\n",
       "       '2nd_kda_red', '1st_kda_red', 'target'],\n",
       "      dtype='object')"
      ]
     },
     "execution_count": 9,
     "metadata": {},
     "output_type": "execute_result"
    }
   ],
   "source": [
    "df.columns"
   ]
  },
  {
   "cell_type": "code",
   "execution_count": 10,
   "id": "e33738df",
   "metadata": {},
   "outputs": [],
   "source": [
    "df = df.dropna()"
   ]
  },
  {
   "cell_type": "code",
   "execution_count": 11,
   "id": "c758707f",
   "metadata": {},
   "outputs": [
    {
     "data": {
      "text/html": [
       "<div>\n",
       "<style scoped>\n",
       "    .dataframe tbody tr th:only-of-type {\n",
       "        vertical-align: middle;\n",
       "    }\n",
       "\n",
       "    .dataframe tbody tr th {\n",
       "        vertical-align: top;\n",
       "    }\n",
       "\n",
       "    .dataframe thead th {\n",
       "        text-align: right;\n",
       "    }\n",
       "</style>\n",
       "<table border=\"1\" class=\"dataframe\">\n",
       "  <thead>\n",
       "    <tr style=\"text-align: right;\">\n",
       "      <th></th>\n",
       "      <th>5th_CS_min_blue</th>\n",
       "      <th>4th_CS_min_blue</th>\n",
       "      <th>3rd_CS_min_blue</th>\n",
       "      <th>2nd_CS_min_blue</th>\n",
       "      <th>1st_CS_min_blue</th>\n",
       "      <th>5th_CS_min_red</th>\n",
       "      <th>4th_CS_min_red</th>\n",
       "      <th>3rd_CS_min_red</th>\n",
       "      <th>2nd_CS_min_red</th>\n",
       "      <th>1st_CS_min_red</th>\n",
       "      <th>...</th>\n",
       "      <th>4th_kda_blue</th>\n",
       "      <th>3rd_kda_blue</th>\n",
       "      <th>2nd_kda_blue</th>\n",
       "      <th>1st_kda_blue</th>\n",
       "      <th>5th_kda_red</th>\n",
       "      <th>4th_kda_red</th>\n",
       "      <th>3rd_kda_red</th>\n",
       "      <th>2nd_kda_red</th>\n",
       "      <th>1st_kda_red</th>\n",
       "      <th>target</th>\n",
       "    </tr>\n",
       "  </thead>\n",
       "  <tbody>\n",
       "    <tr>\n",
       "      <th>0</th>\n",
       "      <td>1.976583</td>\n",
       "      <td>4.573580</td>\n",
       "      <td>4.756204</td>\n",
       "      <td>5.939718</td>\n",
       "      <td>6.626648</td>\n",
       "      <td>1.162788</td>\n",
       "      <td>4.747214</td>\n",
       "      <td>5.366882</td>\n",
       "      <td>5.895539</td>\n",
       "      <td>6.067965</td>\n",
       "      <td>...</td>\n",
       "      <td>2.250000</td>\n",
       "      <td>2.516667</td>\n",
       "      <td>2.750000</td>\n",
       "      <td>3.111111</td>\n",
       "      <td>1.354167</td>\n",
       "      <td>1.857143</td>\n",
       "      <td>1.916667</td>\n",
       "      <td>2.000000</td>\n",
       "      <td>2.316667</td>\n",
       "      <td>1</td>\n",
       "    </tr>\n",
       "    <tr>\n",
       "      <th>1</th>\n",
       "      <td>3.867070</td>\n",
       "      <td>5.469181</td>\n",
       "      <td>5.623977</td>\n",
       "      <td>6.249752</td>\n",
       "      <td>6.870524</td>\n",
       "      <td>0.740881</td>\n",
       "      <td>3.587890</td>\n",
       "      <td>5.125936</td>\n",
       "      <td>5.649067</td>\n",
       "      <td>6.146694</td>\n",
       "      <td>...</td>\n",
       "      <td>1.261364</td>\n",
       "      <td>1.571429</td>\n",
       "      <td>2.181818</td>\n",
       "      <td>2.950000</td>\n",
       "      <td>1.520833</td>\n",
       "      <td>1.777778</td>\n",
       "      <td>2.000000</td>\n",
       "      <td>2.173611</td>\n",
       "      <td>3.614286</td>\n",
       "      <td>0</td>\n",
       "    </tr>\n",
       "    <tr>\n",
       "      <th>2</th>\n",
       "      <td>1.080000</td>\n",
       "      <td>4.598162</td>\n",
       "      <td>4.825763</td>\n",
       "      <td>5.340403</td>\n",
       "      <td>5.681439</td>\n",
       "      <td>2.085663</td>\n",
       "      <td>4.498963</td>\n",
       "      <td>4.766707</td>\n",
       "      <td>5.405575</td>\n",
       "      <td>6.289723</td>\n",
       "      <td>...</td>\n",
       "      <td>1.472222</td>\n",
       "      <td>1.645833</td>\n",
       "      <td>1.816667</td>\n",
       "      <td>2.160714</td>\n",
       "      <td>1.708333</td>\n",
       "      <td>1.895833</td>\n",
       "      <td>2.071429</td>\n",
       "      <td>2.386364</td>\n",
       "      <td>2.833333</td>\n",
       "      <td>1</td>\n",
       "    </tr>\n",
       "    <tr>\n",
       "      <th>3</th>\n",
       "      <td>0.363769</td>\n",
       "      <td>2.671286</td>\n",
       "      <td>4.984266</td>\n",
       "      <td>5.148903</td>\n",
       "      <td>5.976233</td>\n",
       "      <td>1.734322</td>\n",
       "      <td>5.071400</td>\n",
       "      <td>5.178816</td>\n",
       "      <td>6.166968</td>\n",
       "      <td>6.529087</td>\n",
       "      <td>...</td>\n",
       "      <td>1.544643</td>\n",
       "      <td>2.275000</td>\n",
       "      <td>2.750000</td>\n",
       "      <td>3.100000</td>\n",
       "      <td>1.623932</td>\n",
       "      <td>1.950000</td>\n",
       "      <td>2.171429</td>\n",
       "      <td>2.616667</td>\n",
       "      <td>2.801587</td>\n",
       "      <td>0</td>\n",
       "    </tr>\n",
       "    <tr>\n",
       "      <th>4</th>\n",
       "      <td>1.368294</td>\n",
       "      <td>4.925813</td>\n",
       "      <td>5.484073</td>\n",
       "      <td>5.915913</td>\n",
       "      <td>6.164462</td>\n",
       "      <td>0.815051</td>\n",
       "      <td>5.392639</td>\n",
       "      <td>5.477247</td>\n",
       "      <td>6.682713</td>\n",
       "      <td>7.049121</td>\n",
       "      <td>...</td>\n",
       "      <td>2.225000</td>\n",
       "      <td>2.330357</td>\n",
       "      <td>2.937500</td>\n",
       "      <td>3.071429</td>\n",
       "      <td>1.866071</td>\n",
       "      <td>1.900000</td>\n",
       "      <td>2.183333</td>\n",
       "      <td>2.750000</td>\n",
       "      <td>4.958333</td>\n",
       "      <td>1</td>\n",
       "    </tr>\n",
       "    <tr>\n",
       "      <th>...</th>\n",
       "      <td>...</td>\n",
       "      <td>...</td>\n",
       "      <td>...</td>\n",
       "      <td>...</td>\n",
       "      <td>...</td>\n",
       "      <td>...</td>\n",
       "      <td>...</td>\n",
       "      <td>...</td>\n",
       "      <td>...</td>\n",
       "      <td>...</td>\n",
       "      <td>...</td>\n",
       "      <td>...</td>\n",
       "      <td>...</td>\n",
       "      <td>...</td>\n",
       "      <td>...</td>\n",
       "      <td>...</td>\n",
       "      <td>...</td>\n",
       "      <td>...</td>\n",
       "      <td>...</td>\n",
       "      <td>...</td>\n",
       "      <td>...</td>\n",
       "    </tr>\n",
       "    <tr>\n",
       "      <th>927</th>\n",
       "      <td>0.206679</td>\n",
       "      <td>3.242855</td>\n",
       "      <td>3.858181</td>\n",
       "      <td>4.125231</td>\n",
       "      <td>5.436693</td>\n",
       "      <td>3.042890</td>\n",
       "      <td>4.194576</td>\n",
       "      <td>4.323031</td>\n",
       "      <td>4.890833</td>\n",
       "      <td>5.414535</td>\n",
       "      <td>...</td>\n",
       "      <td>1.812500</td>\n",
       "      <td>2.314286</td>\n",
       "      <td>2.439394</td>\n",
       "      <td>2.500000</td>\n",
       "      <td>1.458333</td>\n",
       "      <td>1.466667</td>\n",
       "      <td>1.483333</td>\n",
       "      <td>1.680556</td>\n",
       "      <td>2.048611</td>\n",
       "      <td>1</td>\n",
       "    </tr>\n",
       "    <tr>\n",
       "      <th>928</th>\n",
       "      <td>1.513932</td>\n",
       "      <td>4.858114</td>\n",
       "      <td>5.456084</td>\n",
       "      <td>6.261634</td>\n",
       "      <td>6.332916</td>\n",
       "      <td>4.486468</td>\n",
       "      <td>4.896937</td>\n",
       "      <td>4.932086</td>\n",
       "      <td>5.188566</td>\n",
       "      <td>5.850610</td>\n",
       "      <td>...</td>\n",
       "      <td>2.279221</td>\n",
       "      <td>2.550000</td>\n",
       "      <td>2.687500</td>\n",
       "      <td>2.928571</td>\n",
       "      <td>1.107955</td>\n",
       "      <td>1.236111</td>\n",
       "      <td>1.662500</td>\n",
       "      <td>1.755556</td>\n",
       "      <td>1.812500</td>\n",
       "      <td>1</td>\n",
       "    </tr>\n",
       "    <tr>\n",
       "      <th>929</th>\n",
       "      <td>1.941900</td>\n",
       "      <td>4.367879</td>\n",
       "      <td>4.490651</td>\n",
       "      <td>5.920417</td>\n",
       "      <td>6.566390</td>\n",
       "      <td>0.475627</td>\n",
       "      <td>3.839915</td>\n",
       "      <td>4.261205</td>\n",
       "      <td>5.287674</td>\n",
       "      <td>5.424155</td>\n",
       "      <td>...</td>\n",
       "      <td>1.928571</td>\n",
       "      <td>1.944444</td>\n",
       "      <td>2.303030</td>\n",
       "      <td>2.635714</td>\n",
       "      <td>1.850000</td>\n",
       "      <td>3.000000</td>\n",
       "      <td>3.083333</td>\n",
       "      <td>3.125000</td>\n",
       "      <td>3.162338</td>\n",
       "      <td>0</td>\n",
       "    </tr>\n",
       "    <tr>\n",
       "      <th>930</th>\n",
       "      <td>1.697442</td>\n",
       "      <td>2.560060</td>\n",
       "      <td>5.208572</td>\n",
       "      <td>6.171789</td>\n",
       "      <td>6.474445</td>\n",
       "      <td>1.276204</td>\n",
       "      <td>5.618855</td>\n",
       "      <td>6.072157</td>\n",
       "      <td>6.331045</td>\n",
       "      <td>6.960445</td>\n",
       "      <td>...</td>\n",
       "      <td>1.950000</td>\n",
       "      <td>2.100000</td>\n",
       "      <td>2.900000</td>\n",
       "      <td>3.660714</td>\n",
       "      <td>1.633333</td>\n",
       "      <td>1.708333</td>\n",
       "      <td>2.083333</td>\n",
       "      <td>2.675000</td>\n",
       "      <td>3.000000</td>\n",
       "      <td>1</td>\n",
       "    </tr>\n",
       "    <tr>\n",
       "      <th>931</th>\n",
       "      <td>4.303957</td>\n",
       "      <td>4.670731</td>\n",
       "      <td>5.653987</td>\n",
       "      <td>5.995154</td>\n",
       "      <td>7.971635</td>\n",
       "      <td>2.672117</td>\n",
       "      <td>4.052760</td>\n",
       "      <td>6.136530</td>\n",
       "      <td>6.356045</td>\n",
       "      <td>6.387555</td>\n",
       "      <td>...</td>\n",
       "      <td>2.145833</td>\n",
       "      <td>2.568182</td>\n",
       "      <td>3.345238</td>\n",
       "      <td>5.250000</td>\n",
       "      <td>1.800000</td>\n",
       "      <td>1.812500</td>\n",
       "      <td>1.833333</td>\n",
       "      <td>2.333333</td>\n",
       "      <td>2.585714</td>\n",
       "      <td>0</td>\n",
       "    </tr>\n",
       "  </tbody>\n",
       "</table>\n",
       "<p>909 rows × 21 columns</p>\n",
       "</div>"
      ],
      "text/plain": [
       "     5th_CS_min_blue  4th_CS_min_blue  3rd_CS_min_blue  2nd_CS_min_blue  \\\n",
       "0           1.976583         4.573580         4.756204         5.939718   \n",
       "1           3.867070         5.469181         5.623977         6.249752   \n",
       "2           1.080000         4.598162         4.825763         5.340403   \n",
       "3           0.363769         2.671286         4.984266         5.148903   \n",
       "4           1.368294         4.925813         5.484073         5.915913   \n",
       "..               ...              ...              ...              ...   \n",
       "927         0.206679         3.242855         3.858181         4.125231   \n",
       "928         1.513932         4.858114         5.456084         6.261634   \n",
       "929         1.941900         4.367879         4.490651         5.920417   \n",
       "930         1.697442         2.560060         5.208572         6.171789   \n",
       "931         4.303957         4.670731         5.653987         5.995154   \n",
       "\n",
       "     1st_CS_min_blue  5th_CS_min_red  4th_CS_min_red  3rd_CS_min_red  \\\n",
       "0           6.626648        1.162788        4.747214        5.366882   \n",
       "1           6.870524        0.740881        3.587890        5.125936   \n",
       "2           5.681439        2.085663        4.498963        4.766707   \n",
       "3           5.976233        1.734322        5.071400        5.178816   \n",
       "4           6.164462        0.815051        5.392639        5.477247   \n",
       "..               ...             ...             ...             ...   \n",
       "927         5.436693        3.042890        4.194576        4.323031   \n",
       "928         6.332916        4.486468        4.896937        4.932086   \n",
       "929         6.566390        0.475627        3.839915        4.261205   \n",
       "930         6.474445        1.276204        5.618855        6.072157   \n",
       "931         7.971635        2.672117        4.052760        6.136530   \n",
       "\n",
       "     2nd_CS_min_red  1st_CS_min_red  ...  4th_kda_blue  3rd_kda_blue  \\\n",
       "0          5.895539        6.067965  ...      2.250000      2.516667   \n",
       "1          5.649067        6.146694  ...      1.261364      1.571429   \n",
       "2          5.405575        6.289723  ...      1.472222      1.645833   \n",
       "3          6.166968        6.529087  ...      1.544643      2.275000   \n",
       "4          6.682713        7.049121  ...      2.225000      2.330357   \n",
       "..              ...             ...  ...           ...           ...   \n",
       "927        4.890833        5.414535  ...      1.812500      2.314286   \n",
       "928        5.188566        5.850610  ...      2.279221      2.550000   \n",
       "929        5.287674        5.424155  ...      1.928571      1.944444   \n",
       "930        6.331045        6.960445  ...      1.950000      2.100000   \n",
       "931        6.356045        6.387555  ...      2.145833      2.568182   \n",
       "\n",
       "     2nd_kda_blue  1st_kda_blue  5th_kda_red  4th_kda_red  3rd_kda_red  \\\n",
       "0        2.750000      3.111111     1.354167     1.857143     1.916667   \n",
       "1        2.181818      2.950000     1.520833     1.777778     2.000000   \n",
       "2        1.816667      2.160714     1.708333     1.895833     2.071429   \n",
       "3        2.750000      3.100000     1.623932     1.950000     2.171429   \n",
       "4        2.937500      3.071429     1.866071     1.900000     2.183333   \n",
       "..            ...           ...          ...          ...          ...   \n",
       "927      2.439394      2.500000     1.458333     1.466667     1.483333   \n",
       "928      2.687500      2.928571     1.107955     1.236111     1.662500   \n",
       "929      2.303030      2.635714     1.850000     3.000000     3.083333   \n",
       "930      2.900000      3.660714     1.633333     1.708333     2.083333   \n",
       "931      3.345238      5.250000     1.800000     1.812500     1.833333   \n",
       "\n",
       "     2nd_kda_red  1st_kda_red  target  \n",
       "0       2.000000     2.316667       1  \n",
       "1       2.173611     3.614286       0  \n",
       "2       2.386364     2.833333       1  \n",
       "3       2.616667     2.801587       0  \n",
       "4       2.750000     4.958333       1  \n",
       "..           ...          ...     ...  \n",
       "927     1.680556     2.048611       1  \n",
       "928     1.755556     1.812500       1  \n",
       "929     3.125000     3.162338       0  \n",
       "930     2.675000     3.000000       1  \n",
       "931     2.333333     2.585714       0  \n",
       "\n",
       "[909 rows x 21 columns]"
      ]
     },
     "execution_count": 11,
     "metadata": {},
     "output_type": "execute_result"
    }
   ],
   "source": [
    "df"
   ]
  },
  {
   "cell_type": "code",
   "execution_count": 12,
   "id": "1a707cca",
   "metadata": {},
   "outputs": [
    {
     "name": "stderr",
     "output_type": "stream",
     "text": [
      "C:\\Users\\gmbas\\AppData\\Local\\Temp\\ipykernel_10512\\3510406778.py:1: SettingWithCopyWarning: \n",
      "A value is trying to be set on a copy of a slice from a DataFrame.\n",
      "Try using .loc[row_indexer,col_indexer] = value instead\n",
      "\n",
      "See the caveats in the documentation: https://pandas.pydata.org/pandas-docs/stable/user_guide/indexing.html#returning-a-view-versus-a-copy\n",
      "  df['diff_5th_CS_min'] = df['5th_CS_min_blue'] - df['5th_CS_min_red']\n",
      "C:\\Users\\gmbas\\AppData\\Local\\Temp\\ipykernel_10512\\3510406778.py:2: SettingWithCopyWarning: \n",
      "A value is trying to be set on a copy of a slice from a DataFrame.\n",
      "Try using .loc[row_indexer,col_indexer] = value instead\n",
      "\n",
      "See the caveats in the documentation: https://pandas.pydata.org/pandas-docs/stable/user_guide/indexing.html#returning-a-view-versus-a-copy\n",
      "  df['diff_4th_CS_min'] = df['4th_CS_min_blue'] - df['4th_CS_min_red']\n",
      "C:\\Users\\gmbas\\AppData\\Local\\Temp\\ipykernel_10512\\3510406778.py:3: SettingWithCopyWarning: \n",
      "A value is trying to be set on a copy of a slice from a DataFrame.\n",
      "Try using .loc[row_indexer,col_indexer] = value instead\n",
      "\n",
      "See the caveats in the documentation: https://pandas.pydata.org/pandas-docs/stable/user_guide/indexing.html#returning-a-view-versus-a-copy\n",
      "  df['diff_3rd_CS_min'] = df['3rd_CS_min_blue'] - df['3rd_CS_min_red']\n",
      "C:\\Users\\gmbas\\AppData\\Local\\Temp\\ipykernel_10512\\3510406778.py:4: SettingWithCopyWarning: \n",
      "A value is trying to be set on a copy of a slice from a DataFrame.\n",
      "Try using .loc[row_indexer,col_indexer] = value instead\n",
      "\n",
      "See the caveats in the documentation: https://pandas.pydata.org/pandas-docs/stable/user_guide/indexing.html#returning-a-view-versus-a-copy\n",
      "  df['diff_2nd_CS_min'] = df['2nd_CS_min_blue'] - df['2nd_CS_min_red']\n",
      "C:\\Users\\gmbas\\AppData\\Local\\Temp\\ipykernel_10512\\3510406778.py:5: SettingWithCopyWarning: \n",
      "A value is trying to be set on a copy of a slice from a DataFrame.\n",
      "Try using .loc[row_indexer,col_indexer] = value instead\n",
      "\n",
      "See the caveats in the documentation: https://pandas.pydata.org/pandas-docs/stable/user_guide/indexing.html#returning-a-view-versus-a-copy\n",
      "  df['diff_1st_CS_min'] = df['1st_CS_min_blue'] - df['1st_CS_min_red']\n"
     ]
    }
   ],
   "source": [
    "df['diff_5th_CS_min'] = df['5th_CS_min_blue'] - df['5th_CS_min_red']\n",
    "df['diff_4th_CS_min'] = df['4th_CS_min_blue'] - df['4th_CS_min_red']\n",
    "df['diff_3rd_CS_min'] = df['3rd_CS_min_blue'] - df['3rd_CS_min_red']\n",
    "df['diff_2nd_CS_min'] = df['2nd_CS_min_blue'] - df['2nd_CS_min_red']\n",
    "df['diff_1st_CS_min'] = df['1st_CS_min_blue'] - df['1st_CS_min_red']"
   ]
  },
  {
   "cell_type": "code",
   "execution_count": 13,
   "id": "c8adc0ed",
   "metadata": {},
   "outputs": [
    {
     "name": "stderr",
     "output_type": "stream",
     "text": [
      "C:\\Users\\gmbas\\AppData\\Local\\Temp\\ipykernel_10512\\1665264610.py:1: SettingWithCopyWarning: \n",
      "A value is trying to be set on a copy of a slice from a DataFrame.\n",
      "Try using .loc[row_indexer,col_indexer] = value instead\n",
      "\n",
      "See the caveats in the documentation: https://pandas.pydata.org/pandas-docs/stable/user_guide/indexing.html#returning-a-view-versus-a-copy\n",
      "  df['diff_5th_kda'] = df['5th_kda_blue'] - df['5th_kda_red']\n",
      "C:\\Users\\gmbas\\AppData\\Local\\Temp\\ipykernel_10512\\1665264610.py:2: SettingWithCopyWarning: \n",
      "A value is trying to be set on a copy of a slice from a DataFrame.\n",
      "Try using .loc[row_indexer,col_indexer] = value instead\n",
      "\n",
      "See the caveats in the documentation: https://pandas.pydata.org/pandas-docs/stable/user_guide/indexing.html#returning-a-view-versus-a-copy\n",
      "  df['diff_4th_kda'] = df['4th_kda_blue'] - df['4th_kda_red']\n",
      "C:\\Users\\gmbas\\AppData\\Local\\Temp\\ipykernel_10512\\1665264610.py:3: SettingWithCopyWarning: \n",
      "A value is trying to be set on a copy of a slice from a DataFrame.\n",
      "Try using .loc[row_indexer,col_indexer] = value instead\n",
      "\n",
      "See the caveats in the documentation: https://pandas.pydata.org/pandas-docs/stable/user_guide/indexing.html#returning-a-view-versus-a-copy\n",
      "  df['diff_3rd_kda'] = df['3rd_kda_blue'] - df['3rd_kda_red']\n",
      "C:\\Users\\gmbas\\AppData\\Local\\Temp\\ipykernel_10512\\1665264610.py:4: SettingWithCopyWarning: \n",
      "A value is trying to be set on a copy of a slice from a DataFrame.\n",
      "Try using .loc[row_indexer,col_indexer] = value instead\n",
      "\n",
      "See the caveats in the documentation: https://pandas.pydata.org/pandas-docs/stable/user_guide/indexing.html#returning-a-view-versus-a-copy\n",
      "  df['diff_2nd_kda'] = df['2nd_kda_blue'] - df['2nd_kda_red']\n",
      "C:\\Users\\gmbas\\AppData\\Local\\Temp\\ipykernel_10512\\1665264610.py:5: SettingWithCopyWarning: \n",
      "A value is trying to be set on a copy of a slice from a DataFrame.\n",
      "Try using .loc[row_indexer,col_indexer] = value instead\n",
      "\n",
      "See the caveats in the documentation: https://pandas.pydata.org/pandas-docs/stable/user_guide/indexing.html#returning-a-view-versus-a-copy\n",
      "  df['diff_1st_kda'] = df['1st_kda_blue'] - df['1st_kda_red']\n"
     ]
    }
   ],
   "source": [
    "df['diff_5th_kda'] = df['5th_kda_blue'] - df['5th_kda_red']\n",
    "df['diff_4th_kda'] = df['4th_kda_blue'] - df['4th_kda_red']\n",
    "df['diff_3rd_kda'] = df['3rd_kda_blue'] - df['3rd_kda_red']\n",
    "df['diff_2nd_kda'] = df['2nd_kda_blue'] - df['2nd_kda_red']\n",
    "df['diff_1st_kda'] = df['1st_kda_blue'] - df['1st_kda_red']"
   ]
  },
  {
   "cell_type": "code",
   "execution_count": 15,
   "id": "c15bceb8",
   "metadata": {},
   "outputs": [],
   "source": [
    "df = df.drop(['5th_CS_min_blue', '4th_CS_min_blue', '3rd_CS_min_blue',\n",
    "       '2nd_CS_min_blue', '1st_CS_min_blue', '5th_CS_min_red',\n",
    "       '4th_CS_min_red', '3rd_CS_min_red', '2nd_CS_min_red', '1st_CS_min_red',\n",
    "       '5th_kda_blue', '4th_kda_blue', '3rd_kda_blue', '2nd_kda_blue',\n",
    "       '1st_kda_blue', '5th_kda_red', '4th_kda_red', '3rd_kda_red',\n",
    "       '2nd_kda_red', '1st_kda_red'],axis = 1)"
   ]
  },
  {
   "cell_type": "code",
   "execution_count": 16,
   "id": "7a7394d3",
   "metadata": {},
   "outputs": [
    {
     "data": {
      "text/html": [
       "<div>\n",
       "<style scoped>\n",
       "    .dataframe tbody tr th:only-of-type {\n",
       "        vertical-align: middle;\n",
       "    }\n",
       "\n",
       "    .dataframe tbody tr th {\n",
       "        vertical-align: top;\n",
       "    }\n",
       "\n",
       "    .dataframe thead th {\n",
       "        text-align: right;\n",
       "    }\n",
       "</style>\n",
       "<table border=\"1\" class=\"dataframe\">\n",
       "  <thead>\n",
       "    <tr style=\"text-align: right;\">\n",
       "      <th></th>\n",
       "      <th>target</th>\n",
       "      <th>diff_5th_CS_min</th>\n",
       "      <th>diff_4th_CS_min</th>\n",
       "      <th>diff_3rd_CS_min</th>\n",
       "      <th>diff_2nd_CS_min</th>\n",
       "      <th>diff_1st_CS_min</th>\n",
       "      <th>diff_5th_kda</th>\n",
       "      <th>diff_4th_kda</th>\n",
       "      <th>diff_3rd_kda</th>\n",
       "      <th>diff_2nd_kda</th>\n",
       "      <th>diff_1st_kda</th>\n",
       "    </tr>\n",
       "  </thead>\n",
       "  <tbody>\n",
       "    <tr>\n",
       "      <th>0</th>\n",
       "      <td>1</td>\n",
       "      <td>0.813795</td>\n",
       "      <td>-0.173634</td>\n",
       "      <td>-0.610678</td>\n",
       "      <td>0.044179</td>\n",
       "      <td>0.558683</td>\n",
       "      <td>0.379167</td>\n",
       "      <td>0.392857</td>\n",
       "      <td>0.600000</td>\n",
       "      <td>0.750000</td>\n",
       "      <td>0.794444</td>\n",
       "    </tr>\n",
       "    <tr>\n",
       "      <th>1</th>\n",
       "      <td>0</td>\n",
       "      <td>3.126189</td>\n",
       "      <td>1.881292</td>\n",
       "      <td>0.498041</td>\n",
       "      <td>0.600685</td>\n",
       "      <td>0.723831</td>\n",
       "      <td>-0.395833</td>\n",
       "      <td>-0.516414</td>\n",
       "      <td>-0.428571</td>\n",
       "      <td>0.008207</td>\n",
       "      <td>-0.664286</td>\n",
       "    </tr>\n",
       "    <tr>\n",
       "      <th>2</th>\n",
       "      <td>1</td>\n",
       "      <td>-1.005663</td>\n",
       "      <td>0.099199</td>\n",
       "      <td>0.059056</td>\n",
       "      <td>-0.065172</td>\n",
       "      <td>-0.608284</td>\n",
       "      <td>-0.244048</td>\n",
       "      <td>-0.423611</td>\n",
       "      <td>-0.425595</td>\n",
       "      <td>-0.569697</td>\n",
       "      <td>-0.672619</td>\n",
       "    </tr>\n",
       "    <tr>\n",
       "      <th>3</th>\n",
       "      <td>0</td>\n",
       "      <td>-1.370553</td>\n",
       "      <td>-2.400115</td>\n",
       "      <td>-0.194550</td>\n",
       "      <td>-1.018064</td>\n",
       "      <td>-0.552854</td>\n",
       "      <td>-0.281074</td>\n",
       "      <td>-0.405357</td>\n",
       "      <td>0.103571</td>\n",
       "      <td>0.133333</td>\n",
       "      <td>0.298413</td>\n",
       "    </tr>\n",
       "    <tr>\n",
       "      <th>4</th>\n",
       "      <td>1</td>\n",
       "      <td>0.553243</td>\n",
       "      <td>-0.466826</td>\n",
       "      <td>0.006825</td>\n",
       "      <td>-0.766800</td>\n",
       "      <td>-0.884658</td>\n",
       "      <td>-0.736701</td>\n",
       "      <td>0.325000</td>\n",
       "      <td>0.147024</td>\n",
       "      <td>0.187500</td>\n",
       "      <td>-1.886905</td>\n",
       "    </tr>\n",
       "    <tr>\n",
       "      <th>...</th>\n",
       "      <td>...</td>\n",
       "      <td>...</td>\n",
       "      <td>...</td>\n",
       "      <td>...</td>\n",
       "      <td>...</td>\n",
       "      <td>...</td>\n",
       "      <td>...</td>\n",
       "      <td>...</td>\n",
       "      <td>...</td>\n",
       "      <td>...</td>\n",
       "      <td>...</td>\n",
       "    </tr>\n",
       "    <tr>\n",
       "      <th>927</th>\n",
       "      <td>1</td>\n",
       "      <td>-2.836211</td>\n",
       "      <td>-0.951721</td>\n",
       "      <td>-0.464850</td>\n",
       "      <td>-0.765601</td>\n",
       "      <td>0.022158</td>\n",
       "      <td>-0.535256</td>\n",
       "      <td>0.345833</td>\n",
       "      <td>0.830952</td>\n",
       "      <td>0.758838</td>\n",
       "      <td>0.451389</td>\n",
       "    </tr>\n",
       "    <tr>\n",
       "      <th>928</th>\n",
       "      <td>1</td>\n",
       "      <td>-2.972536</td>\n",
       "      <td>-0.038823</td>\n",
       "      <td>0.523998</td>\n",
       "      <td>1.073068</td>\n",
       "      <td>0.482306</td>\n",
       "      <td>1.046807</td>\n",
       "      <td>1.043110</td>\n",
       "      <td>0.887500</td>\n",
       "      <td>0.931944</td>\n",
       "      <td>1.116071</td>\n",
       "    </tr>\n",
       "    <tr>\n",
       "      <th>929</th>\n",
       "      <td>0</td>\n",
       "      <td>1.466273</td>\n",
       "      <td>0.527965</td>\n",
       "      <td>0.229446</td>\n",
       "      <td>0.632743</td>\n",
       "      <td>1.142235</td>\n",
       "      <td>-0.246104</td>\n",
       "      <td>-1.071429</td>\n",
       "      <td>-1.138889</td>\n",
       "      <td>-0.821970</td>\n",
       "      <td>-0.526623</td>\n",
       "    </tr>\n",
       "    <tr>\n",
       "      <th>930</th>\n",
       "      <td>1</td>\n",
       "      <td>0.421237</td>\n",
       "      <td>-3.058795</td>\n",
       "      <td>-0.863585</td>\n",
       "      <td>-0.159256</td>\n",
       "      <td>-0.486000</td>\n",
       "      <td>-0.815873</td>\n",
       "      <td>0.241667</td>\n",
       "      <td>0.016667</td>\n",
       "      <td>0.225000</td>\n",
       "      <td>0.660714</td>\n",
       "    </tr>\n",
       "    <tr>\n",
       "      <th>931</th>\n",
       "      <td>0</td>\n",
       "      <td>1.631840</td>\n",
       "      <td>0.617971</td>\n",
       "      <td>-0.482543</td>\n",
       "      <td>-0.360892</td>\n",
       "      <td>1.584080</td>\n",
       "      <td>-0.230769</td>\n",
       "      <td>0.333333</td>\n",
       "      <td>0.734848</td>\n",
       "      <td>1.011905</td>\n",
       "      <td>2.664286</td>\n",
       "    </tr>\n",
       "  </tbody>\n",
       "</table>\n",
       "<p>909 rows × 11 columns</p>\n",
       "</div>"
      ],
      "text/plain": [
       "     target  diff_5th_CS_min  diff_4th_CS_min  diff_3rd_CS_min  \\\n",
       "0         1         0.813795        -0.173634        -0.610678   \n",
       "1         0         3.126189         1.881292         0.498041   \n",
       "2         1        -1.005663         0.099199         0.059056   \n",
       "3         0        -1.370553        -2.400115        -0.194550   \n",
       "4         1         0.553243        -0.466826         0.006825   \n",
       "..      ...              ...              ...              ...   \n",
       "927       1        -2.836211        -0.951721        -0.464850   \n",
       "928       1        -2.972536        -0.038823         0.523998   \n",
       "929       0         1.466273         0.527965         0.229446   \n",
       "930       1         0.421237        -3.058795        -0.863585   \n",
       "931       0         1.631840         0.617971        -0.482543   \n",
       "\n",
       "     diff_2nd_CS_min  diff_1st_CS_min  diff_5th_kda  diff_4th_kda  \\\n",
       "0           0.044179         0.558683      0.379167      0.392857   \n",
       "1           0.600685         0.723831     -0.395833     -0.516414   \n",
       "2          -0.065172        -0.608284     -0.244048     -0.423611   \n",
       "3          -1.018064        -0.552854     -0.281074     -0.405357   \n",
       "4          -0.766800        -0.884658     -0.736701      0.325000   \n",
       "..               ...              ...           ...           ...   \n",
       "927        -0.765601         0.022158     -0.535256      0.345833   \n",
       "928         1.073068         0.482306      1.046807      1.043110   \n",
       "929         0.632743         1.142235     -0.246104     -1.071429   \n",
       "930        -0.159256        -0.486000     -0.815873      0.241667   \n",
       "931        -0.360892         1.584080     -0.230769      0.333333   \n",
       "\n",
       "     diff_3rd_kda  diff_2nd_kda  diff_1st_kda  \n",
       "0        0.600000      0.750000      0.794444  \n",
       "1       -0.428571      0.008207     -0.664286  \n",
       "2       -0.425595     -0.569697     -0.672619  \n",
       "3        0.103571      0.133333      0.298413  \n",
       "4        0.147024      0.187500     -1.886905  \n",
       "..            ...           ...           ...  \n",
       "927      0.830952      0.758838      0.451389  \n",
       "928      0.887500      0.931944      1.116071  \n",
       "929     -1.138889     -0.821970     -0.526623  \n",
       "930      0.016667      0.225000      0.660714  \n",
       "931      0.734848      1.011905      2.664286  \n",
       "\n",
       "[909 rows x 11 columns]"
      ]
     },
     "execution_count": 16,
     "metadata": {},
     "output_type": "execute_result"
    }
   ],
   "source": [
    "df"
   ]
  },
  {
   "cell_type": "markdown",
   "id": "21656196",
   "metadata": {},
   "source": [
    "## Dividing in train and test sets, maintaining the order of the matches(match 0 was the oldest match played, while the last line was the most recent match)"
   ]
  },
  {
   "cell_type": "code",
   "execution_count": 17,
   "id": "e92c0e50",
   "metadata": {},
   "outputs": [],
   "source": [
    "y_all = df['target']\n",
    "X_all = df.drop('target',axis = 1)"
   ]
  },
  {
   "cell_type": "code",
   "execution_count": 18,
   "id": "77f063e0",
   "metadata": {},
   "outputs": [],
   "source": [
    "cutoff1 = round(df.shape[0]*0.8)\n",
    "X,X_test = X_all[0:cutoff1],X_all[cutoff1:]\n",
    "y,y_test = y_all[0:cutoff1],y_all[cutoff1:]"
   ]
  },
  {
   "cell_type": "markdown",
   "id": "cda21516",
   "metadata": {},
   "source": [
    "## Function to calculate the standard error of the mean, which will be used to calculate the accuracy's uncertainty"
   ]
  },
  {
   "cell_type": "code",
   "execution_count": 20,
   "id": "c05bc4af",
   "metadata": {},
   "outputs": [],
   "source": [
    "def acc_std_dev(mean_acc, N, y_pred, y_true):\n",
    "    '''\n",
    "    mean_acc: number from 0 to 1 that is the fraction of accurate predicts of the model given X_test as input\n",
    "    N: number of lines in y_test\n",
    "    y_pred: predicts done by the model given X_test as input\n",
    "    y_true: It's y_test\n",
    "    \n",
    "    '''\n",
    "    sum_ = 0\n",
    "    for i in range(len(y_pred)):\n",
    "        if y_pred[i] == y_true[i]:\n",
    "            y_i = 1\n",
    "        else:\n",
    "            y_i = 0\n",
    "            \n",
    "        sum_ += (y_i - mean_acc)**2\n",
    "        \n",
    "    std_dev = np.sqrt(sum_/(N-1))\n",
    "    \n",
    "    avg_std_dev = std_dev/np.sqrt(N)\n",
    "    \n",
    "    return avg_std_dev"
   ]
  },
  {
   "cell_type": "markdown",
   "id": "7ba01ecb",
   "metadata": {},
   "source": [
    "# Logistic Regression"
   ]
  },
  {
   "cell_type": "code",
   "execution_count": 21,
   "id": "b0018b01",
   "metadata": {},
   "outputs": [],
   "source": [
    "tscv = TimeSeriesSplit()"
   ]
  },
  {
   "cell_type": "markdown",
   "id": "01a942a5",
   "metadata": {},
   "source": [
    "This specific choice of hyperparameters to try were taken from https://machinelearningmastery.com/hyperparameter-optimization-with-random-search-and-grid-search/"
   ]
  },
  {
   "cell_type": "code",
   "execution_count": 22,
   "id": "9b6006bc",
   "metadata": {},
   "outputs": [],
   "source": [
    "param_grid_log_reg = {'solver': ['newton-cg', 'lbfgs', 'liblinear'],\n",
    "'penalty': ['none', 'l1', 'l2', 'elasticnet'],\n",
    "'C': [1e-5, 1e-4, 1e-3, 1e-2, 1e-1, 1, 10, 100]}"
   ]
  },
  {
   "cell_type": "code",
   "execution_count": 23,
   "id": "28b95bf8",
   "metadata": {},
   "outputs": [],
   "source": [
    "log_reg = LogisticRegression(random_state=42)"
   ]
  },
  {
   "cell_type": "markdown",
   "id": "30fb5215",
   "metadata": {},
   "source": [
    "## Now we run gridsearch using the time series split for crossvalidation "
   ]
  },
  {
   "cell_type": "code",
   "execution_count": 24,
   "id": "8a7806e2",
   "metadata": {},
   "outputs": [],
   "source": [
    "gs_log_reg = GridSearchCV(estimator=log_reg,\n",
    "                  param_grid=param_grid_log_reg, \n",
    "                  scoring = 'accuracy',\n",
    "                  n_jobs = -1,\n",
    "                  cv = tscv.split(X))"
   ]
  },
  {
   "cell_type": "code",
   "execution_count": 25,
   "id": "880c4816",
   "metadata": {
    "scrolled": true
   },
   "outputs": [
    {
     "name": "stderr",
     "output_type": "stream",
     "text": [
      "C:\\Users\\gmbas\\AppData\\Local\\Programs\\Python\\Python310\\lib\\site-packages\\sklearn\\model_selection\\_validation.py:372: FitFailedWarning: \n",
      "240 fits failed out of a total of 480.\n",
      "The score on these train-test partitions for these parameters will be set to nan.\n",
      "If these failures are not expected, you can try to debug them by setting error_score='raise'.\n",
      "\n",
      "Below are more details about the failures:\n",
      "--------------------------------------------------------------------------------\n",
      "40 fits failed with the following error:\n",
      "Traceback (most recent call last):\n",
      "  File \"C:\\Users\\gmbas\\AppData\\Local\\Programs\\Python\\Python310\\lib\\site-packages\\sklearn\\model_selection\\_validation.py\", line 680, in _fit_and_score\n",
      "    estimator.fit(X_train, y_train, **fit_params)\n",
      "  File \"C:\\Users\\gmbas\\AppData\\Local\\Programs\\Python\\Python310\\lib\\site-packages\\sklearn\\linear_model\\_logistic.py\", line 1461, in fit\n",
      "    solver = _check_solver(self.solver, self.penalty, self.dual)\n",
      "  File \"C:\\Users\\gmbas\\AppData\\Local\\Programs\\Python\\Python310\\lib\\site-packages\\sklearn\\linear_model\\_logistic.py\", line 464, in _check_solver\n",
      "    raise ValueError(\"penalty='none' is not supported for the liblinear solver\")\n",
      "ValueError: penalty='none' is not supported for the liblinear solver\n",
      "\n",
      "--------------------------------------------------------------------------------\n",
      "40 fits failed with the following error:\n",
      "Traceback (most recent call last):\n",
      "  File \"C:\\Users\\gmbas\\AppData\\Local\\Programs\\Python\\Python310\\lib\\site-packages\\sklearn\\model_selection\\_validation.py\", line 680, in _fit_and_score\n",
      "    estimator.fit(X_train, y_train, **fit_params)\n",
      "  File \"C:\\Users\\gmbas\\AppData\\Local\\Programs\\Python\\Python310\\lib\\site-packages\\sklearn\\linear_model\\_logistic.py\", line 1461, in fit\n",
      "    solver = _check_solver(self.solver, self.penalty, self.dual)\n",
      "  File \"C:\\Users\\gmbas\\AppData\\Local\\Programs\\Python\\Python310\\lib\\site-packages\\sklearn\\linear_model\\_logistic.py\", line 447, in _check_solver\n",
      "    raise ValueError(\n",
      "ValueError: Solver newton-cg supports only 'l2' or 'none' penalties, got l1 penalty.\n",
      "\n",
      "--------------------------------------------------------------------------------\n",
      "40 fits failed with the following error:\n",
      "Traceback (most recent call last):\n",
      "  File \"C:\\Users\\gmbas\\AppData\\Local\\Programs\\Python\\Python310\\lib\\site-packages\\sklearn\\model_selection\\_validation.py\", line 680, in _fit_and_score\n",
      "    estimator.fit(X_train, y_train, **fit_params)\n",
      "  File \"C:\\Users\\gmbas\\AppData\\Local\\Programs\\Python\\Python310\\lib\\site-packages\\sklearn\\linear_model\\_logistic.py\", line 1461, in fit\n",
      "    solver = _check_solver(self.solver, self.penalty, self.dual)\n",
      "  File \"C:\\Users\\gmbas\\AppData\\Local\\Programs\\Python\\Python310\\lib\\site-packages\\sklearn\\linear_model\\_logistic.py\", line 447, in _check_solver\n",
      "    raise ValueError(\n",
      "ValueError: Solver lbfgs supports only 'l2' or 'none' penalties, got l1 penalty.\n",
      "\n",
      "--------------------------------------------------------------------------------\n",
      "40 fits failed with the following error:\n",
      "Traceback (most recent call last):\n",
      "  File \"C:\\Users\\gmbas\\AppData\\Local\\Programs\\Python\\Python310\\lib\\site-packages\\sklearn\\model_selection\\_validation.py\", line 680, in _fit_and_score\n",
      "    estimator.fit(X_train, y_train, **fit_params)\n",
      "  File \"C:\\Users\\gmbas\\AppData\\Local\\Programs\\Python\\Python310\\lib\\site-packages\\sklearn\\linear_model\\_logistic.py\", line 1461, in fit\n",
      "    solver = _check_solver(self.solver, self.penalty, self.dual)\n",
      "  File \"C:\\Users\\gmbas\\AppData\\Local\\Programs\\Python\\Python310\\lib\\site-packages\\sklearn\\linear_model\\_logistic.py\", line 447, in _check_solver\n",
      "    raise ValueError(\n",
      "ValueError: Solver newton-cg supports only 'l2' or 'none' penalties, got elasticnet penalty.\n",
      "\n",
      "--------------------------------------------------------------------------------\n",
      "40 fits failed with the following error:\n",
      "Traceback (most recent call last):\n",
      "  File \"C:\\Users\\gmbas\\AppData\\Local\\Programs\\Python\\Python310\\lib\\site-packages\\sklearn\\model_selection\\_validation.py\", line 680, in _fit_and_score\n",
      "    estimator.fit(X_train, y_train, **fit_params)\n",
      "  File \"C:\\Users\\gmbas\\AppData\\Local\\Programs\\Python\\Python310\\lib\\site-packages\\sklearn\\linear_model\\_logistic.py\", line 1461, in fit\n",
      "    solver = _check_solver(self.solver, self.penalty, self.dual)\n",
      "  File \"C:\\Users\\gmbas\\AppData\\Local\\Programs\\Python\\Python310\\lib\\site-packages\\sklearn\\linear_model\\_logistic.py\", line 447, in _check_solver\n",
      "    raise ValueError(\n",
      "ValueError: Solver lbfgs supports only 'l2' or 'none' penalties, got elasticnet penalty.\n",
      "\n",
      "--------------------------------------------------------------------------------\n",
      "40 fits failed with the following error:\n",
      "Traceback (most recent call last):\n",
      "  File \"C:\\Users\\gmbas\\AppData\\Local\\Programs\\Python\\Python310\\lib\\site-packages\\sklearn\\model_selection\\_validation.py\", line 680, in _fit_and_score\n",
      "    estimator.fit(X_train, y_train, **fit_params)\n",
      "  File \"C:\\Users\\gmbas\\AppData\\Local\\Programs\\Python\\Python310\\lib\\site-packages\\sklearn\\linear_model\\_logistic.py\", line 1461, in fit\n",
      "    solver = _check_solver(self.solver, self.penalty, self.dual)\n",
      "  File \"C:\\Users\\gmbas\\AppData\\Local\\Programs\\Python\\Python310\\lib\\site-packages\\sklearn\\linear_model\\_logistic.py\", line 457, in _check_solver\n",
      "    raise ValueError(\n",
      "ValueError: Only 'saga' solver supports elasticnet penalty, got solver=liblinear.\n",
      "\n",
      "  warnings.warn(some_fits_failed_message, FitFailedWarning)\n",
      "C:\\Users\\gmbas\\AppData\\Local\\Programs\\Python\\Python310\\lib\\site-packages\\sklearn\\model_selection\\_search.py:969: UserWarning: One or more of the test scores are non-finite: [0.55867769 0.55867769        nan        nan        nan 0.46446281\n",
      " 0.46446281 0.46446281 0.5322314         nan        nan        nan\n",
      " 0.55867769 0.55867769        nan        nan        nan 0.46446281\n",
      " 0.46446281 0.46446281 0.5338843         nan        nan        nan\n",
      " 0.55867769 0.55867769        nan        nan        nan 0.46446281\n",
      " 0.48099174 0.48099174 0.54049587        nan        nan        nan\n",
      " 0.55867769 0.55867769        nan        nan        nan 0.46446281\n",
      " 0.54214876 0.54214876 0.55041322        nan        nan        nan\n",
      " 0.55867769 0.55867769        nan        nan        nan 0.53884298\n",
      " 0.54876033 0.54876033 0.54876033        nan        nan        nan\n",
      " 0.55867769 0.55867769        nan        nan        nan 0.55371901\n",
      " 0.56033058 0.56033058 0.56198347        nan        nan        nan\n",
      " 0.55867769 0.55867769        nan        nan        nan 0.56033058\n",
      " 0.56033058 0.56033058 0.56033058        nan        nan        nan\n",
      " 0.55867769 0.55867769        nan        nan        nan 0.55867769\n",
      " 0.55867769 0.55867769 0.55867769        nan        nan        nan]\n",
      "  warnings.warn(\n"
     ]
    }
   ],
   "source": [
    "results_gs_log_reg = gs_log_reg.fit(X,y)"
   ]
  },
  {
   "cell_type": "markdown",
   "id": "76fd2815",
   "metadata": {},
   "source": [
    "## Optimal Logistic regression hyperparameters found in cross validation:"
   ]
  },
  {
   "cell_type": "code",
   "execution_count": 26,
   "id": "23706de3",
   "metadata": {},
   "outputs": [
    {
     "name": "stdout",
     "output_type": "stream",
     "text": [
      "Best Score: 0.5619834710743802\n",
      "Best Hyperparameters:{'C': 1, 'penalty': 'l2', 'solver': 'liblinear'}\n"
     ]
    }
   ],
   "source": [
    "print(f'Best Score: {results_gs_log_reg.best_score_}')\n",
    "print(f'Best Hyperparameters:{results_gs_log_reg.best_params_}')"
   ]
  },
  {
   "cell_type": "code",
   "execution_count": 28,
   "id": "cb34dc25",
   "metadata": {},
   "outputs": [],
   "source": [
    "hyperparams_logreg = results_gs_log_reg.best_params_"
   ]
  },
  {
   "cell_type": "markdown",
   "id": "9b1aea04",
   "metadata": {},
   "source": [
    "## Now with the optimal hyperparameters, we run the model with the entire train set using the optimal hyperparameters"
   ]
  },
  {
   "cell_type": "code",
   "execution_count": 30,
   "id": "d3e70042",
   "metadata": {},
   "outputs": [],
   "source": [
    "log_reg_final = LogisticRegression(\n",
    "                                   random_state = 42,\n",
    "                                   **hyperparams_logreg\n",
    ")"
   ]
  },
  {
   "cell_type": "code",
   "execution_count": 31,
   "id": "337fd495",
   "metadata": {},
   "outputs": [
    {
     "data": {
      "text/plain": [
       "LogisticRegression(C=1, random_state=42, solver='liblinear')"
      ]
     },
     "execution_count": 31,
     "metadata": {},
     "output_type": "execute_result"
    }
   ],
   "source": [
    "log_reg_final.fit(X,y)"
   ]
  },
  {
   "cell_type": "code",
   "execution_count": 32,
   "id": "c13fb008",
   "metadata": {},
   "outputs": [
    {
     "data": {
      "text/plain": [
       "0.5818431911966988"
      ]
     },
     "execution_count": 32,
     "metadata": {},
     "output_type": "execute_result"
    }
   ],
   "source": [
    "log_reg_final.score(X,y)  #train score"
   ]
  },
  {
   "cell_type": "code",
   "execution_count": 33,
   "id": "011568fc",
   "metadata": {
    "scrolled": true
   },
   "outputs": [
    {
     "data": {
      "text/plain": [
       "0.5714285714285714"
      ]
     },
     "execution_count": 33,
     "metadata": {},
     "output_type": "execute_result"
    }
   ],
   "source": [
    "log_reg_score = log_reg_final.score(X_test,y_test)  #test score\n",
    "log_reg_score"
   ]
  },
  {
   "cell_type": "markdown",
   "id": "7943643d",
   "metadata": {},
   "source": [
    "## Now we calculate the accuracy's std error"
   ]
  },
  {
   "cell_type": "code",
   "execution_count": 34,
   "id": "59bf5c53",
   "metadata": {},
   "outputs": [],
   "source": [
    "y_pred_log_reg = log_reg_final.predict(X_test)\n",
    "y_test_np_arr = np.array(y_test)\n",
    "N = y_test.shape[0]"
   ]
  },
  {
   "cell_type": "code",
   "execution_count": 35,
   "id": "cd194314",
   "metadata": {
    "scrolled": true
   },
   "outputs": [
    {
     "data": {
      "text/plain": [
       "0.036783520750532116"
      ]
     },
     "execution_count": 35,
     "metadata": {},
     "output_type": "execute_result"
    }
   ],
   "source": [
    "acc_std_dev(log_reg_score, N , y_pred_log_reg, y_test_np_arr)"
   ]
  },
  {
   "cell_type": "markdown",
   "id": "398b8877",
   "metadata": {},
   "source": [
    "# Random forest"
   ]
  },
  {
   "cell_type": "code",
   "execution_count": 36,
   "id": "9f78fc50",
   "metadata": {},
   "outputs": [],
   "source": [
    "rf = RandomForestClassifier(random_state = 42)"
   ]
  },
  {
   "cell_type": "code",
   "execution_count": 49,
   "id": "ecd8bb2b",
   "metadata": {},
   "outputs": [],
   "source": [
    "param_grid_rf = {\n",
    "    \"n_estimators\":[500],\n",
    "    \"max_features\":[None,'sqrt'],\n",
    "    \"min_samples_leaf\":np.arange(20,1000,40)\n",
    "    \n",
    "    \n",
    "    \n",
    "}"
   ]
  },
  {
   "cell_type": "markdown",
   "id": "2bd18e5f",
   "metadata": {},
   "source": [
    "## Now we run gridsearch using the time series split for crossvalidation "
   ]
  },
  {
   "cell_type": "code",
   "execution_count": 50,
   "id": "2b97feec",
   "metadata": {},
   "outputs": [],
   "source": [
    "gs_rf = GridSearchCV(estimator=rf,\n",
    "                  param_grid=param_grid_rf, \n",
    "                  scoring = 'accuracy',\n",
    "                  n_jobs = -1,\n",
    "                  cv = tscv.split(X))"
   ]
  },
  {
   "cell_type": "code",
   "execution_count": 51,
   "id": "2099985d",
   "metadata": {},
   "outputs": [],
   "source": [
    "results_gs_rf = gs_rf.fit(X,y)"
   ]
  },
  {
   "cell_type": "markdown",
   "id": "5cdc4180",
   "metadata": {},
   "source": [
    "## Optimal Random forest hyperparameters found in cross validation:"
   ]
  },
  {
   "cell_type": "code",
   "execution_count": 52,
   "id": "1ee71e2a",
   "metadata": {},
   "outputs": [
    {
     "name": "stdout",
     "output_type": "stream",
     "text": [
      "Best Score: 0.5537190082644629\n",
      "Best Hyperparameters:{'max_features': 'sqrt', 'min_samples_leaf': 60, 'n_estimators': 500}\n"
     ]
    }
   ],
   "source": [
    "print(f'Best Score: {results_gs_rf.best_score_}')\n",
    "print(f'Best Hyperparameters:{results_gs_rf.best_params_}')"
   ]
  },
  {
   "cell_type": "code",
   "execution_count": 53,
   "id": "4854bd7b",
   "metadata": {},
   "outputs": [],
   "source": [
    "hyperparams_rf = results_gs_rf.best_params_"
   ]
  },
  {
   "cell_type": "markdown",
   "id": "2a046487",
   "metadata": {},
   "source": [
    "## Now with the optimal hyperparameters, we run the model with the entire train set using the optimal hyperparameters"
   ]
  },
  {
   "cell_type": "code",
   "execution_count": 54,
   "id": "0311471f",
   "metadata": {},
   "outputs": [],
   "source": [
    "rf_final = RandomForestClassifier(\n",
    "                                  random_state = 42,\n",
    "                                  **hyperparams_rf\n",
    ")"
   ]
  },
  {
   "cell_type": "code",
   "execution_count": 55,
   "id": "1694cf0b",
   "metadata": {
    "scrolled": true
   },
   "outputs": [
    {
     "data": {
      "text/plain": [
       "RandomForestClassifier(max_features='sqrt', min_samples_leaf=60,\n",
       "                       n_estimators=500, random_state=42)"
      ]
     },
     "execution_count": 55,
     "metadata": {},
     "output_type": "execute_result"
    }
   ],
   "source": [
    "rf_final.fit(X,y)  "
   ]
  },
  {
   "cell_type": "code",
   "execution_count": 56,
   "id": "2a05e99e",
   "metadata": {},
   "outputs": [
    {
     "data": {
      "text/plain": [
       "0.6547455295735901"
      ]
     },
     "execution_count": 56,
     "metadata": {},
     "output_type": "execute_result"
    }
   ],
   "source": [
    "rf_final.score(X,y)  #train score"
   ]
  },
  {
   "cell_type": "code",
   "execution_count": 57,
   "id": "185edba5",
   "metadata": {},
   "outputs": [
    {
     "data": {
      "text/plain": [
       "0.5659340659340659"
      ]
     },
     "execution_count": 57,
     "metadata": {},
     "output_type": "execute_result"
    }
   ],
   "source": [
    "rf_score = rf_final.score(X_test,y_test)  #test score\n",
    "rf_score"
   ]
  },
  {
   "cell_type": "markdown",
   "id": "8152d7ad",
   "metadata": {},
   "source": [
    "## Now we calculate the accuracy's std error"
   ]
  },
  {
   "cell_type": "code",
   "execution_count": 59,
   "id": "4b9a9b0a",
   "metadata": {},
   "outputs": [],
   "source": [
    "y_pred_rf = rf_final.predict(X_test)"
   ]
  },
  {
   "cell_type": "code",
   "execution_count": 60,
   "id": "2bbc4055",
   "metadata": {
    "scrolled": true
   },
   "outputs": [
    {
     "data": {
      "text/plain": [
       "0.03684015786834601"
      ]
     },
     "execution_count": 60,
     "metadata": {},
     "output_type": "execute_result"
    }
   ],
   "source": [
    "acc_std_dev(rf_score, N , y_pred_rf, y_test_np_arr)"
   ]
  },
  {
   "cell_type": "markdown",
   "id": "ac10b384",
   "metadata": {},
   "source": [
    "# Lightgbm"
   ]
  },
  {
   "cell_type": "code",
   "execution_count": 61,
   "id": "d4f75475",
   "metadata": {},
   "outputs": [],
   "source": [
    "lgbm = lgb.LGBMClassifier(random_state = 42)"
   ]
  },
  {
   "cell_type": "code",
   "execution_count": 63,
   "id": "b8841fdf",
   "metadata": {},
   "outputs": [],
   "source": [
    "param_grid_lgbm = {\n",
    "    'num_leaves':np.arange(1,2001,100),\n",
    "    'min_data_in_leaf':np.arange(1,2001,100),\n",
    "    #'max_depth':\n",
    "}"
   ]
  },
  {
   "cell_type": "code",
   "execution_count": 64,
   "id": "f11a3117",
   "metadata": {},
   "outputs": [],
   "source": [
    "gs_lgbm = GridSearchCV(estimator=lgbm,\n",
    "                  param_grid=param_grid_lgbm, \n",
    "                  scoring = 'accuracy',\n",
    "                  n_jobs = -1,\n",
    "                  cv = tscv.split(X))"
   ]
  },
  {
   "cell_type": "code",
   "execution_count": 65,
   "id": "98ff0b9a",
   "metadata": {},
   "outputs": [
    {
     "name": "stderr",
     "output_type": "stream",
     "text": [
      "C:\\Users\\gmbas\\AppData\\Local\\Programs\\Python\\Python310\\lib\\site-packages\\sklearn\\model_selection\\_validation.py:372: FitFailedWarning: \n",
      "100 fits failed out of a total of 2000.\n",
      "The score on these train-test partitions for these parameters will be set to nan.\n",
      "If these failures are not expected, you can try to debug them by setting error_score='raise'.\n",
      "\n",
      "Below are more details about the failures:\n",
      "--------------------------------------------------------------------------------\n",
      "100 fits failed with the following error:\n",
      "Traceback (most recent call last):\n",
      "  File \"C:\\Users\\gmbas\\AppData\\Local\\Programs\\Python\\Python310\\lib\\site-packages\\sklearn\\model_selection\\_validation.py\", line 680, in _fit_and_score\n",
      "    estimator.fit(X_train, y_train, **fit_params)\n",
      "  File \"C:\\Users\\gmbas\\AppData\\Local\\Programs\\Python\\Python310\\lib\\site-packages\\lightgbm\\sklearn.py\", line 967, in fit\n",
      "    super().fit(X, _y, sample_weight=sample_weight, init_score=init_score, eval_set=valid_sets,\n",
      "  File \"C:\\Users\\gmbas\\AppData\\Local\\Programs\\Python\\Python310\\lib\\site-packages\\lightgbm\\sklearn.py\", line 748, in fit\n",
      "    self._Booster = train(\n",
      "  File \"C:\\Users\\gmbas\\AppData\\Local\\Programs\\Python\\Python310\\lib\\site-packages\\lightgbm\\engine.py\", line 271, in train\n",
      "    booster = Booster(params=params, train_set=train_set)\n",
      "  File \"C:\\Users\\gmbas\\AppData\\Local\\Programs\\Python\\Python310\\lib\\site-packages\\lightgbm\\basic.py\", line 2605, in __init__\n",
      "    train_set.construct()\n",
      "  File \"C:\\Users\\gmbas\\AppData\\Local\\Programs\\Python\\Python310\\lib\\site-packages\\lightgbm\\basic.py\", line 1815, in construct\n",
      "    self._lazy_init(self.data, label=self.label,\n",
      "  File \"C:\\Users\\gmbas\\AppData\\Local\\Programs\\Python\\Python310\\lib\\site-packages\\lightgbm\\basic.py\", line 1538, in _lazy_init\n",
      "    self.__init_from_np2d(data, params_str, ref_dataset)\n",
      "  File \"C:\\Users\\gmbas\\AppData\\Local\\Programs\\Python\\Python310\\lib\\site-packages\\lightgbm\\basic.py\", line 1659, in __init_from_np2d\n",
      "    _safe_call(_LIB.LGBM_DatasetCreateFromMat(\n",
      "  File \"C:\\Users\\gmbas\\AppData\\Local\\Programs\\Python\\Python310\\lib\\site-packages\\lightgbm\\basic.py\", line 125, in _safe_call\n",
      "    raise LightGBMError(_LIB.LGBM_GetLastError().decode('utf-8'))\n",
      "lightgbm.basic.LightGBMError: Check failed: (num_leaves) > (1) at D:\\a\\1\\s\\python-package\\compile\\src\\io\\config_auto.cpp, line 334 .\n",
      "\n",
      "\n",
      "  warnings.warn(some_fits_failed_message, FitFailedWarning)\n",
      "C:\\Users\\gmbas\\AppData\\Local\\Programs\\Python\\Python310\\lib\\site-packages\\sklearn\\model_selection\\_search.py:969: UserWarning: One or more of the test scores are non-finite: [       nan 0.54380165 0.54876033 0.54876033 0.54876033 0.54876033\n",
      " 0.54876033 0.54876033 0.54876033 0.54876033 0.54876033 0.54876033\n",
      " 0.54876033 0.54876033 0.54876033 0.54876033 0.54876033 0.54876033\n",
      " 0.54876033 0.54876033        nan 0.5322314  0.5322314  0.5322314\n",
      " 0.5322314  0.5322314  0.5322314  0.5322314  0.5322314  0.5322314\n",
      " 0.5322314  0.5322314  0.5322314  0.5322314  0.5322314  0.5322314\n",
      " 0.5322314  0.5322314  0.5322314  0.5322314         nan 0.4661157\n",
      " 0.4661157  0.4661157  0.4661157  0.4661157  0.4661157  0.4661157\n",
      " 0.4661157  0.4661157  0.4661157  0.4661157  0.4661157  0.4661157\n",
      " 0.4661157  0.4661157  0.4661157  0.4661157  0.4661157  0.4661157\n",
      "        nan 0.46942149 0.46942149 0.46942149 0.46942149 0.46942149\n",
      " 0.46942149 0.46942149 0.46942149 0.46942149 0.46942149 0.46942149\n",
      " 0.46942149 0.46942149 0.46942149 0.46942149 0.46942149 0.46942149\n",
      " 0.46942149 0.46942149        nan 0.46446281 0.46446281 0.46446281\n",
      " 0.46446281 0.46446281 0.46446281 0.46446281 0.46446281 0.46446281\n",
      " 0.46446281 0.46446281 0.46446281 0.46446281 0.46446281 0.46446281\n",
      " 0.46446281 0.46446281 0.46446281 0.46446281        nan 0.46446281\n",
      " 0.46446281 0.46446281 0.46446281 0.46446281 0.46446281 0.46446281\n",
      " 0.46446281 0.46446281 0.46446281 0.46446281 0.46446281 0.46446281\n",
      " 0.46446281 0.46446281 0.46446281 0.46446281 0.46446281 0.46446281\n",
      "        nan 0.46446281 0.46446281 0.46446281 0.46446281 0.46446281\n",
      " 0.46446281 0.46446281 0.46446281 0.46446281 0.46446281 0.46446281\n",
      " 0.46446281 0.46446281 0.46446281 0.46446281 0.46446281 0.46446281\n",
      " 0.46446281 0.46446281        nan 0.46446281 0.46446281 0.46446281\n",
      " 0.46446281 0.46446281 0.46446281 0.46446281 0.46446281 0.46446281\n",
      " 0.46446281 0.46446281 0.46446281 0.46446281 0.46446281 0.46446281\n",
      " 0.46446281 0.46446281 0.46446281 0.46446281        nan 0.46446281\n",
      " 0.46446281 0.46446281 0.46446281 0.46446281 0.46446281 0.46446281\n",
      " 0.46446281 0.46446281 0.46446281 0.46446281 0.46446281 0.46446281\n",
      " 0.46446281 0.46446281 0.46446281 0.46446281 0.46446281 0.46446281\n",
      "        nan 0.46446281 0.46446281 0.46446281 0.46446281 0.46446281\n",
      " 0.46446281 0.46446281 0.46446281 0.46446281 0.46446281 0.46446281\n",
      " 0.46446281 0.46446281 0.46446281 0.46446281 0.46446281 0.46446281\n",
      " 0.46446281 0.46446281        nan 0.46446281 0.46446281 0.46446281\n",
      " 0.46446281 0.46446281 0.46446281 0.46446281 0.46446281 0.46446281\n",
      " 0.46446281 0.46446281 0.46446281 0.46446281 0.46446281 0.46446281\n",
      " 0.46446281 0.46446281 0.46446281 0.46446281        nan 0.46446281\n",
      " 0.46446281 0.46446281 0.46446281 0.46446281 0.46446281 0.46446281\n",
      " 0.46446281 0.46446281 0.46446281 0.46446281 0.46446281 0.46446281\n",
      " 0.46446281 0.46446281 0.46446281 0.46446281 0.46446281 0.46446281\n",
      "        nan 0.46446281 0.46446281 0.46446281 0.46446281 0.46446281\n",
      " 0.46446281 0.46446281 0.46446281 0.46446281 0.46446281 0.46446281\n",
      " 0.46446281 0.46446281 0.46446281 0.46446281 0.46446281 0.46446281\n",
      " 0.46446281 0.46446281        nan 0.46446281 0.46446281 0.46446281\n",
      " 0.46446281 0.46446281 0.46446281 0.46446281 0.46446281 0.46446281\n",
      " 0.46446281 0.46446281 0.46446281 0.46446281 0.46446281 0.46446281\n",
      " 0.46446281 0.46446281 0.46446281 0.46446281        nan 0.46446281\n",
      " 0.46446281 0.46446281 0.46446281 0.46446281 0.46446281 0.46446281\n",
      " 0.46446281 0.46446281 0.46446281 0.46446281 0.46446281 0.46446281\n",
      " 0.46446281 0.46446281 0.46446281 0.46446281 0.46446281 0.46446281\n",
      "        nan 0.46446281 0.46446281 0.46446281 0.46446281 0.46446281\n",
      " 0.46446281 0.46446281 0.46446281 0.46446281 0.46446281 0.46446281\n",
      " 0.46446281 0.46446281 0.46446281 0.46446281 0.46446281 0.46446281\n",
      " 0.46446281 0.46446281        nan 0.46446281 0.46446281 0.46446281\n",
      " 0.46446281 0.46446281 0.46446281 0.46446281 0.46446281 0.46446281\n",
      " 0.46446281 0.46446281 0.46446281 0.46446281 0.46446281 0.46446281\n",
      " 0.46446281 0.46446281 0.46446281 0.46446281        nan 0.46446281\n",
      " 0.46446281 0.46446281 0.46446281 0.46446281 0.46446281 0.46446281\n",
      " 0.46446281 0.46446281 0.46446281 0.46446281 0.46446281 0.46446281\n",
      " 0.46446281 0.46446281 0.46446281 0.46446281 0.46446281 0.46446281\n",
      "        nan 0.46446281 0.46446281 0.46446281 0.46446281 0.46446281\n",
      " 0.46446281 0.46446281 0.46446281 0.46446281 0.46446281 0.46446281\n",
      " 0.46446281 0.46446281 0.46446281 0.46446281 0.46446281 0.46446281\n",
      " 0.46446281 0.46446281        nan 0.46446281 0.46446281 0.46446281\n",
      " 0.46446281 0.46446281 0.46446281 0.46446281 0.46446281 0.46446281\n",
      " 0.46446281 0.46446281 0.46446281 0.46446281 0.46446281 0.46446281\n",
      " 0.46446281 0.46446281 0.46446281 0.46446281]\n",
      "  warnings.warn(\n"
     ]
    },
    {
     "name": "stdout",
     "output_type": "stream",
     "text": [
      "[LightGBM] [Warning] min_data_in_leaf is set=1, min_child_samples=20 will be ignored. Current value: min_data_in_leaf=1\n"
     ]
    }
   ],
   "source": [
    "results_gs_lgbm = gs_lgbm.fit(X,y)"
   ]
  },
  {
   "cell_type": "code",
   "execution_count": 66,
   "id": "06600ed7",
   "metadata": {},
   "outputs": [
    {
     "name": "stdout",
     "output_type": "stream",
     "text": [
      "Best Score: 0.5487603305785124\n",
      "Best Hyperparameters:{'min_data_in_leaf': 1, 'num_leaves': 201}\n"
     ]
    }
   ],
   "source": [
    "print(f'Best Score: {results_gs_lgbm.best_score_}')\n",
    "print(f'Best Hyperparameters:{results_gs_lgbm.best_params_}')"
   ]
  },
  {
   "cell_type": "code",
   "execution_count": 67,
   "id": "41e1856d",
   "metadata": {},
   "outputs": [],
   "source": [
    "hyperparams_lgbm = results_gs_lgbm.best_params_"
   ]
  },
  {
   "cell_type": "code",
   "execution_count": 68,
   "id": "2ac5d539",
   "metadata": {},
   "outputs": [],
   "source": [
    "lgbm_final = lgb.LGBMClassifier(random_state = 42,\n",
    "                               **hyperparams_lgbm\n",
    "                               )"
   ]
  },
  {
   "cell_type": "code",
   "execution_count": 71,
   "id": "6fbbdf98",
   "metadata": {},
   "outputs": [
    {
     "data": {
      "text/plain": [
       "LGBMClassifier(min_data_in_leaf=1, num_leaves=201, random_state=42)"
      ]
     },
     "execution_count": 71,
     "metadata": {},
     "output_type": "execute_result"
    }
   ],
   "source": [
    "lgbm_final.fit(X,y)"
   ]
  },
  {
   "cell_type": "code",
   "execution_count": 72,
   "id": "2aeba909",
   "metadata": {},
   "outputs": [
    {
     "data": {
      "text/plain": [
       "1.0"
      ]
     },
     "execution_count": 72,
     "metadata": {},
     "output_type": "execute_result"
    }
   ],
   "source": [
    "lgbm_final.score(X,y) #train score"
   ]
  },
  {
   "cell_type": "code",
   "execution_count": 74,
   "id": "c9732e79",
   "metadata": {},
   "outputs": [
    {
     "data": {
      "text/plain": [
       "0.5274725274725275"
      ]
     },
     "execution_count": 74,
     "metadata": {},
     "output_type": "execute_result"
    }
   ],
   "source": [
    "lgbm_score = lgbm_final.score(X_test,y_test) #test score  \n",
    "lgbm_score"
   ]
  },
  {
   "cell_type": "code",
   "execution_count": 101,
   "id": "440c6cf7",
   "metadata": {},
   "outputs": [],
   "source": [
    "y_pred_lgbm = lgbm_final.predict(X_test)"
   ]
  },
  {
   "cell_type": "code",
   "execution_count": 102,
   "id": "63867224",
   "metadata": {
    "scrolled": true
   },
   "outputs": [
    {
     "data": {
      "text/plain": [
       "0.037108565542923286"
      ]
     },
     "execution_count": 102,
     "metadata": {},
     "output_type": "execute_result"
    }
   ],
   "source": [
    "acc_std_dev(lgbm_score, N , y_pred_lgbm, y_test_np_arr)"
   ]
  },
  {
   "cell_type": "markdown",
   "id": "8026a814",
   "metadata": {},
   "source": [
    "# KNN"
   ]
  },
  {
   "cell_type": "code",
   "execution_count": 75,
   "id": "10b2e048",
   "metadata": {},
   "outputs": [],
   "source": [
    "knn = KNeighborsClassifier(n_jobs = -1)"
   ]
  },
  {
   "cell_type": "code",
   "execution_count": 76,
   "id": "1ab2a81e",
   "metadata": {},
   "outputs": [],
   "source": [
    "param_grid_knn = {\n",
    "    'n_neighbors': np.arange(1,80,2),\n",
    "    'weights' : ['uniform', 'distance'],\n",
    "    #'algorithm' : ['auto', 'ball_tree', 'kd_tree', 'brute'],\n",
    "    'leaf_size' : np.arange(1,100,10),\n",
    "    'metric' : ['euclidean','manhattan','chebyshev','minkowski']\n",
    "}"
   ]
  },
  {
   "cell_type": "code",
   "execution_count": 77,
   "id": "419df277",
   "metadata": {},
   "outputs": [],
   "source": [
    "gs_knn = GridSearchCV(estimator=knn,\n",
    "                  param_grid=param_grid_knn, \n",
    "                  scoring = 'accuracy',\n",
    "                  n_jobs = -1,\n",
    "                  cv = tscv.split(X))"
   ]
  },
  {
   "cell_type": "code",
   "execution_count": 78,
   "id": "22336c4c",
   "metadata": {},
   "outputs": [],
   "source": [
    "results_gs_knn = gs_knn.fit(X,y)"
   ]
  },
  {
   "cell_type": "code",
   "execution_count": 79,
   "id": "bc8693f1",
   "metadata": {
    "scrolled": true
   },
   "outputs": [
    {
     "name": "stdout",
     "output_type": "stream",
     "text": [
      "Best Score: 0.5322314049586776\n",
      "Best Hyperparameters:{'leaf_size': 1, 'metric': 'euclidean', 'n_neighbors': 61, 'weights': 'uniform'}\n"
     ]
    }
   ],
   "source": [
    "print(f'Best Score: {results_gs_knn.best_score_}')\n",
    "print(f'Best Hyperparameters:{results_gs_knn.best_params_}')"
   ]
  },
  {
   "cell_type": "code",
   "execution_count": 80,
   "id": "e149c012",
   "metadata": {},
   "outputs": [],
   "source": [
    "hyperparams_knn = results_gs_knn.best_params_"
   ]
  },
  {
   "cell_type": "code",
   "execution_count": 81,
   "id": "5efdba91",
   "metadata": {},
   "outputs": [],
   "source": [
    "knn_final = KNeighborsClassifier(\n",
    "                                 **hyperparams_knn\n",
    ")"
   ]
  },
  {
   "cell_type": "code",
   "execution_count": 82,
   "id": "86a6ba8a",
   "metadata": {
    "scrolled": true
   },
   "outputs": [
    {
     "data": {
      "text/plain": [
       "KNeighborsClassifier(leaf_size=1, metric='euclidean', n_neighbors=61)"
      ]
     },
     "execution_count": 82,
     "metadata": {},
     "output_type": "execute_result"
    }
   ],
   "source": [
    "knn_final.fit(X,y)  "
   ]
  },
  {
   "cell_type": "code",
   "execution_count": 83,
   "id": "4b321897",
   "metadata": {},
   "outputs": [
    {
     "data": {
      "text/plain": [
       "0.5708390646492435"
      ]
     },
     "execution_count": 83,
     "metadata": {},
     "output_type": "execute_result"
    }
   ],
   "source": [
    "knn_final.score(X,y)  #train score"
   ]
  },
  {
   "cell_type": "code",
   "execution_count": 84,
   "id": "e86ef10d",
   "metadata": {},
   "outputs": [
    {
     "data": {
      "text/plain": [
       "0.5439560439560439"
      ]
     },
     "execution_count": 84,
     "metadata": {},
     "output_type": "execute_result"
    }
   ],
   "source": [
    "knn_score = knn_final.score(X_test,y_test)  #test score\n",
    "knn_score"
   ]
  },
  {
   "cell_type": "code",
   "execution_count": 85,
   "id": "0da59452",
   "metadata": {},
   "outputs": [],
   "source": [
    "y_pred_rf = knn_final.predict(X_test)"
   ]
  },
  {
   "cell_type": "code",
   "execution_count": 86,
   "id": "121e1ebe",
   "metadata": {
    "scrolled": true
   },
   "outputs": [
    {
     "data": {
      "text/plain": [
       "0.037020814378348095"
      ]
     },
     "execution_count": 86,
     "metadata": {},
     "output_type": "execute_result"
    }
   ],
   "source": [
    "acc_std_dev(knn_score, N , y_pred_rf, y_test_np_arr)"
   ]
  },
  {
   "cell_type": "markdown",
   "id": "a2a9fc2c",
   "metadata": {},
   "source": [
    "# SVM"
   ]
  },
  {
   "cell_type": "code",
   "execution_count": 87,
   "id": "6857241c",
   "metadata": {},
   "outputs": [],
   "source": [
    "svm =SVC(random_state=42)"
   ]
  },
  {
   "cell_type": "code",
   "execution_count": 88,
   "id": "d910c52f",
   "metadata": {},
   "outputs": [],
   "source": [
    "param_grid_svm = {\n",
    "    'C': [1e-5,1e-3,  1e-1, 10],\n",
    "    #'C': [1e-5, 1e-4, 1e-3, 1e-2, 1e-1, 1, 10, 100],\n",
    "    'kernel':['linear']\n",
    "    #'kernel':['linear', 'poly', 'rbf', 'sigmoid', 'precomputed'],\n",
    "\n",
    "}"
   ]
  },
  {
   "cell_type": "code",
   "execution_count": 89,
   "id": "03d6a1f8",
   "metadata": {},
   "outputs": [],
   "source": [
    "gs_svm = GridSearchCV(estimator=svm,\n",
    "                  param_grid=param_grid_svm, \n",
    "                  scoring = 'accuracy',\n",
    "                  n_jobs = -1,\n",
    "                  cv = tscv.split(X))"
   ]
  },
  {
   "cell_type": "code",
   "execution_count": 90,
   "id": "25a26e13",
   "metadata": {},
   "outputs": [],
   "source": [
    "results_gs_svm = gs_svm.fit(X,y)"
   ]
  },
  {
   "cell_type": "code",
   "execution_count": 91,
   "id": "ec0426a6",
   "metadata": {
    "scrolled": true
   },
   "outputs": [
    {
     "name": "stdout",
     "output_type": "stream",
     "text": [
      "Best Score: 0.5537190082644627\n",
      "Best Hyperparameters:{'C': 10, 'kernel': 'linear'}\n"
     ]
    }
   ],
   "source": [
    "print(f'Best Score: {results_gs_svm.best_score_}')\n",
    "print(f'Best Hyperparameters:{results_gs_svm.best_params_}')"
   ]
  },
  {
   "cell_type": "code",
   "execution_count": 93,
   "id": "88dd4b2c",
   "metadata": {},
   "outputs": [],
   "source": [
    "hyperparams_svm = results_gs_svm.best_params_"
   ]
  },
  {
   "cell_type": "code",
   "execution_count": 94,
   "id": "051d8eb3",
   "metadata": {},
   "outputs": [],
   "source": [
    "svm_final = SVC(\n",
    "                random_state = 42,\n",
    "                **hyperparams_svm\n",
    "                                  )"
   ]
  },
  {
   "cell_type": "code",
   "execution_count": 95,
   "id": "79750627",
   "metadata": {
    "scrolled": true
   },
   "outputs": [
    {
     "data": {
      "text/plain": [
       "SVC(C=10, kernel='linear', random_state=42)"
      ]
     },
     "execution_count": 95,
     "metadata": {},
     "output_type": "execute_result"
    }
   ],
   "source": [
    "svm_final.fit(X,y)  "
   ]
  },
  {
   "cell_type": "code",
   "execution_count": 96,
   "id": "a7abacd4",
   "metadata": {},
   "outputs": [
    {
     "data": {
      "text/plain": [
       "0.5777166437414031"
      ]
     },
     "execution_count": 96,
     "metadata": {},
     "output_type": "execute_result"
    }
   ],
   "source": [
    "svm_final.score(X,y)  #train score"
   ]
  },
  {
   "cell_type": "code",
   "execution_count": 97,
   "id": "8215e58d",
   "metadata": {},
   "outputs": [
    {
     "data": {
      "text/plain": [
       "0.532967032967033"
      ]
     },
     "execution_count": 97,
     "metadata": {},
     "output_type": "execute_result"
    }
   ],
   "source": [
    "svm_score = svm_final.score(X_test,y_test)  #test score\n",
    "svm_score"
   ]
  },
  {
   "cell_type": "code",
   "execution_count": 98,
   "id": "a133d375",
   "metadata": {},
   "outputs": [],
   "source": [
    "y_pred_rf = svm_final.predict(X_test)"
   ]
  },
  {
   "cell_type": "code",
   "execution_count": 99,
   "id": "aca6c06c",
   "metadata": {
    "scrolled": true
   },
   "outputs": [
    {
     "data": {
      "text/plain": [
       "0.037083836238327755"
      ]
     },
     "execution_count": 99,
     "metadata": {},
     "output_type": "execute_result"
    }
   ],
   "source": [
    "acc_std_dev(svm_score, N , y_pred_rf, y_test_np_arr)"
   ]
  },
  {
   "cell_type": "code",
   "execution_count": null,
   "id": "d9a3e296",
   "metadata": {},
   "outputs": [],
   "source": []
  },
  {
   "cell_type": "code",
   "execution_count": null,
   "id": "87ddca46",
   "metadata": {},
   "outputs": [],
   "source": []
  }
 ],
 "metadata": {
  "kernelspec": {
   "display_name": "Python 3 (ipykernel)",
   "language": "python",
   "name": "python3"
  },
  "language_info": {
   "codemirror_mode": {
    "name": "ipython",
    "version": 3
   },
   "file_extension": ".py",
   "mimetype": "text/x-python",
   "name": "python",
   "nbconvert_exporter": "python",
   "pygments_lexer": "ipython3",
   "version": "3.10.2"
  }
 },
 "nbformat": 4,
 "nbformat_minor": 5
}
